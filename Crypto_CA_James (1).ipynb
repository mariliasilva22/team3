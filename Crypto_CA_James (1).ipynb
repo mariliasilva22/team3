{
 "cells": [
  {
   "cell_type": "code",
   "execution_count": 15,
   "id": "52141da4",
   "metadata": {},
   "outputs": [],
   "source": [
    "import pandas as pd\n",
    "import numpy as np\n",
    "import matplotlib.dates as mdates\n",
    "import matplotlib.pyplot as plt\n",
    "import seaborn as sns\n",
    "import datetime"
   ]
  },
  {
   "cell_type": "code",
   "execution_count": 2,
   "id": "ac7d315c",
   "metadata": {},
   "outputs": [],
   "source": [
    "df_btc = pd.read_csv(\"coin_Bitcoin.csv\")\n",
    "df_eth = pd.read_csv(\"coin_Ethereum.csv\")\n",
    "df_dog = pd.read_csv(\"coin_Dogecoin.csv\")\n",
    "df_car = pd.read_csv(\"coin_Cardano.csv\")\n",
    "df_sol = pd.read_csv(\"coin_Solana.csv\")"
   ]
  },
  {
   "cell_type": "code",
   "execution_count": 3,
   "id": "8cf31889",
   "metadata": {},
   "outputs": [],
   "source": [
    "df_crypto= pd.concat([df_btc, df_eth,df_dog, df_car, df_sol])"
   ]
  },
  {
   "cell_type": "code",
   "execution_count": 4,
   "id": "974a678b",
   "metadata": {},
   "outputs": [
    {
     "data": {
      "text/html": [
       "<div>\n",
       "<style scoped>\n",
       "    .dataframe tbody tr th:only-of-type {\n",
       "        vertical-align: middle;\n",
       "    }\n",
       "\n",
       "    .dataframe tbody tr th {\n",
       "        vertical-align: top;\n",
       "    }\n",
       "\n",
       "    .dataframe thead th {\n",
       "        text-align: right;\n",
       "    }\n",
       "</style>\n",
       "<table border=\"1\" class=\"dataframe\">\n",
       "  <thead>\n",
       "    <tr style=\"text-align: right;\">\n",
       "      <th></th>\n",
       "      <th>SNo</th>\n",
       "      <th>Name</th>\n",
       "      <th>Symbol</th>\n",
       "      <th>Date</th>\n",
       "      <th>High</th>\n",
       "      <th>Low</th>\n",
       "      <th>Open</th>\n",
       "      <th>Close</th>\n",
       "      <th>Volume</th>\n",
       "      <th>Marketcap</th>\n",
       "    </tr>\n",
       "  </thead>\n",
       "  <tbody>\n",
       "    <tr>\n",
       "      <th>447</th>\n",
       "      <td>448</td>\n",
       "      <td>Solana</td>\n",
       "      <td>SOL</td>\n",
       "      <td>2021-07-02 23:59:59</td>\n",
       "      <td>34.031786</td>\n",
       "      <td>31.479924</td>\n",
       "      <td>33.306310</td>\n",
       "      <td>34.020482</td>\n",
       "      <td>4.402988e+08</td>\n",
       "      <td>9.275257e+09</td>\n",
       "    </tr>\n",
       "    <tr>\n",
       "      <th>448</th>\n",
       "      <td>449</td>\n",
       "      <td>Solana</td>\n",
       "      <td>SOL</td>\n",
       "      <td>2021-07-03 23:59:59</td>\n",
       "      <td>35.404770</td>\n",
       "      <td>33.298475</td>\n",
       "      <td>34.015575</td>\n",
       "      <td>34.478816</td>\n",
       "      <td>3.270200e+08</td>\n",
       "      <td>9.400216e+09</td>\n",
       "    </tr>\n",
       "    <tr>\n",
       "      <th>449</th>\n",
       "      <td>450</td>\n",
       "      <td>Solana</td>\n",
       "      <td>SOL</td>\n",
       "      <td>2021-07-04 23:59:59</td>\n",
       "      <td>35.502372</td>\n",
       "      <td>33.555737</td>\n",
       "      <td>34.495117</td>\n",
       "      <td>34.310601</td>\n",
       "      <td>3.034205e+08</td>\n",
       "      <td>9.354354e+09</td>\n",
       "    </tr>\n",
       "    <tr>\n",
       "      <th>450</th>\n",
       "      <td>451</td>\n",
       "      <td>Solana</td>\n",
       "      <td>SOL</td>\n",
       "      <td>2021-07-05 23:59:59</td>\n",
       "      <td>34.461824</td>\n",
       "      <td>32.482692</td>\n",
       "      <td>34.282550</td>\n",
       "      <td>32.984588</td>\n",
       "      <td>3.138393e+08</td>\n",
       "      <td>8.992833e+09</td>\n",
       "    </tr>\n",
       "    <tr>\n",
       "      <th>451</th>\n",
       "      <td>452</td>\n",
       "      <td>Solana</td>\n",
       "      <td>SOL</td>\n",
       "      <td>2021-07-06 23:59:59</td>\n",
       "      <td>34.978319</td>\n",
       "      <td>32.930307</td>\n",
       "      <td>32.930307</td>\n",
       "      <td>34.269140</td>\n",
       "      <td>3.653360e+08</td>\n",
       "      <td>9.343050e+09</td>\n",
       "    </tr>\n",
       "  </tbody>\n",
       "</table>\n",
       "</div>"
      ],
      "text/plain": [
       "     SNo    Name Symbol                 Date       High        Low       Open  \\\n",
       "447  448  Solana    SOL  2021-07-02 23:59:59  34.031786  31.479924  33.306310   \n",
       "448  449  Solana    SOL  2021-07-03 23:59:59  35.404770  33.298475  34.015575   \n",
       "449  450  Solana    SOL  2021-07-04 23:59:59  35.502372  33.555737  34.495117   \n",
       "450  451  Solana    SOL  2021-07-05 23:59:59  34.461824  32.482692  34.282550   \n",
       "451  452  Solana    SOL  2021-07-06 23:59:59  34.978319  32.930307  32.930307   \n",
       "\n",
       "         Close        Volume     Marketcap  \n",
       "447  34.020482  4.402988e+08  9.275257e+09  \n",
       "448  34.478816  3.270200e+08  9.400216e+09  \n",
       "449  34.310601  3.034205e+08  9.354354e+09  \n",
       "450  32.984588  3.138393e+08  8.992833e+09  \n",
       "451  34.269140  3.653360e+08  9.343050e+09  "
      ]
     },
     "execution_count": 4,
     "metadata": {},
     "output_type": "execute_result"
    }
   ],
   "source": [
    "df_crypto.tail()"
   ]
  },
  {
   "cell_type": "code",
   "execution_count": 62,
   "id": "c3b24b52",
   "metadata": {},
   "outputs": [
    {
     "data": {
      "text/plain": [
       "(9737, 10)"
      ]
     },
     "execution_count": 62,
     "metadata": {},
     "output_type": "execute_result"
    }
   ],
   "source": [
    "df_crypto.shape"
   ]
  },
  {
   "cell_type": "code",
   "execution_count": 63,
   "id": "6f429495",
   "metadata": {},
   "outputs": [
    {
     "name": "stdout",
     "output_type": "stream",
     "text": [
      "<class 'pandas.core.frame.DataFrame'>\n",
      "Int64Index: 9737 entries, 0 to 451\n",
      "Data columns (total 10 columns):\n",
      " #   Column     Non-Null Count  Dtype  \n",
      "---  ------     --------------  -----  \n",
      " 0   SNo        9737 non-null   int64  \n",
      " 1   Name       9737 non-null   object \n",
      " 2   Symbol     9737 non-null   object \n",
      " 3   Date       9737 non-null   object \n",
      " 4   High       9737 non-null   float64\n",
      " 5   Low        9737 non-null   float64\n",
      " 6   Open       9737 non-null   float64\n",
      " 7   Close      9737 non-null   float64\n",
      " 8   Volume     9737 non-null   float64\n",
      " 9   Marketcap  9737 non-null   float64\n",
      "dtypes: float64(6), int64(1), object(3)\n",
      "memory usage: 836.8+ KB\n"
     ]
    }
   ],
   "source": [
    "df_crypto.info()"
   ]
  },
  {
   "cell_type": "code",
   "execution_count": 39,
   "id": "ab9c4dcf",
   "metadata": {},
   "outputs": [
    {
     "data": {
      "text/html": [
       "<div>\n",
       "<style scoped>\n",
       "    .dataframe tbody tr th:only-of-type {\n",
       "        vertical-align: middle;\n",
       "    }\n",
       "\n",
       "    .dataframe tbody tr th {\n",
       "        vertical-align: top;\n",
       "    }\n",
       "\n",
       "    .dataframe thead th {\n",
       "        text-align: right;\n",
       "    }\n",
       "</style>\n",
       "<table border=\"1\" class=\"dataframe\">\n",
       "  <thead>\n",
       "    <tr style=\"text-align: right;\">\n",
       "      <th></th>\n",
       "      <th>SNo</th>\n",
       "      <th>High</th>\n",
       "      <th>Low</th>\n",
       "      <th>Open</th>\n",
       "      <th>Close</th>\n",
       "      <th>Volume</th>\n",
       "      <th>Marketcap</th>\n",
       "    </tr>\n",
       "  </thead>\n",
       "  <tbody>\n",
       "    <tr>\n",
       "      <th>count</th>\n",
       "      <td>9737.000000</td>\n",
       "      <td>9737.000000</td>\n",
       "      <td>9737.000000</td>\n",
       "      <td>9737.000000</td>\n",
       "      <td>9737.000000</td>\n",
       "      <td>9.737000e+03</td>\n",
       "      <td>9.737000e+03</td>\n",
       "    </tr>\n",
       "    <tr>\n",
       "      <th>mean</th>\n",
       "      <td>1198.069118</td>\n",
       "      <td>2206.392811</td>\n",
       "      <td>2073.950786</td>\n",
       "      <td>2143.601456</td>\n",
       "      <td>2147.256859</td>\n",
       "      <td>5.173478e+09</td>\n",
       "      <td>4.807778e+10</td>\n",
       "    </tr>\n",
       "    <tr>\n",
       "      <th>std</th>\n",
       "      <td>799.134457</td>\n",
       "      <td>7175.107253</td>\n",
       "      <td>6708.456899</td>\n",
       "      <td>6959.863871</td>\n",
       "      <td>6967.102449</td>\n",
       "      <td>1.259210e+10</td>\n",
       "      <td>1.316810e+11</td>\n",
       "    </tr>\n",
       "    <tr>\n",
       "      <th>min</th>\n",
       "      <td>1.000000</td>\n",
       "      <td>0.000089</td>\n",
       "      <td>0.000085</td>\n",
       "      <td>0.000087</td>\n",
       "      <td>0.000087</td>\n",
       "      <td>0.000000e+00</td>\n",
       "      <td>0.000000e+00</td>\n",
       "    </tr>\n",
       "    <tr>\n",
       "      <th>25%</th>\n",
       "      <td>496.000000</td>\n",
       "      <td>0.005272</td>\n",
       "      <td>0.004553</td>\n",
       "      <td>0.004964</td>\n",
       "      <td>0.004970</td>\n",
       "      <td>1.150800e+07</td>\n",
       "      <td>3.305161e+08</td>\n",
       "    </tr>\n",
       "    <tr>\n",
       "      <th>50%</th>\n",
       "      <td>1105.000000</td>\n",
       "      <td>11.806600</td>\n",
       "      <td>11.152600</td>\n",
       "      <td>11.442200</td>\n",
       "      <td>11.471000</td>\n",
       "      <td>8.102290e+07</td>\n",
       "      <td>3.778049e+09</td>\n",
       "    </tr>\n",
       "    <tr>\n",
       "      <th>75%</th>\n",
       "      <td>1826.000000</td>\n",
       "      <td>574.038025</td>\n",
       "      <td>525.228027</td>\n",
       "      <td>551.640015</td>\n",
       "      <td>556.140015</td>\n",
       "      <td>3.409479e+09</td>\n",
       "      <td>2.932271e+10</td>\n",
       "    </tr>\n",
       "    <tr>\n",
       "      <th>max</th>\n",
       "      <td>2991.000000</td>\n",
       "      <td>64863.098908</td>\n",
       "      <td>62208.964366</td>\n",
       "      <td>63523.754869</td>\n",
       "      <td>63503.457930</td>\n",
       "      <td>3.509679e+11</td>\n",
       "      <td>1.186364e+12</td>\n",
       "    </tr>\n",
       "  </tbody>\n",
       "</table>\n",
       "</div>"
      ],
      "text/plain": [
       "               SNo          High           Low          Open         Close  \\\n",
       "count  9737.000000   9737.000000   9737.000000   9737.000000   9737.000000   \n",
       "mean   1198.069118   2206.392811   2073.950786   2143.601456   2147.256859   \n",
       "std     799.134457   7175.107253   6708.456899   6959.863871   6967.102449   \n",
       "min       1.000000      0.000089      0.000085      0.000087      0.000087   \n",
       "25%     496.000000      0.005272      0.004553      0.004964      0.004970   \n",
       "50%    1105.000000     11.806600     11.152600     11.442200     11.471000   \n",
       "75%    1826.000000    574.038025    525.228027    551.640015    556.140015   \n",
       "max    2991.000000  64863.098908  62208.964366  63523.754869  63503.457930   \n",
       "\n",
       "             Volume     Marketcap  \n",
       "count  9.737000e+03  9.737000e+03  \n",
       "mean   5.173478e+09  4.807778e+10  \n",
       "std    1.259210e+10  1.316810e+11  \n",
       "min    0.000000e+00  0.000000e+00  \n",
       "25%    1.150800e+07  3.305161e+08  \n",
       "50%    8.102290e+07  3.778049e+09  \n",
       "75%    3.409479e+09  2.932271e+10  \n",
       "max    3.509679e+11  1.186364e+12  "
      ]
     },
     "execution_count": 39,
     "metadata": {},
     "output_type": "execute_result"
    }
   ],
   "source": [
    "df_crypto.describe()"
   ]
  },
  {
   "cell_type": "code",
   "execution_count": 49,
   "id": "0d31d34a",
   "metadata": {},
   "outputs": [],
   "source": []
  },
  {
   "cell_type": "code",
   "execution_count": 55,
   "id": "bf8627f7",
   "metadata": {},
   "outputs": [
    {
     "data": {
      "text/plain": [
       "SNo          False\n",
       "Name         False\n",
       "Symbol       False\n",
       "Date         False\n",
       "High         False\n",
       "Low          False\n",
       "Open         False\n",
       "Close        False\n",
       "Volume       False\n",
       "Marketcap    False\n",
       "dtype: bool"
      ]
     },
     "execution_count": 55,
     "metadata": {},
     "output_type": "execute_result"
    }
   ],
   "source": [
    "df_crypto.isna().any()"
   ]
  },
  {
   "cell_type": "code",
   "execution_count": 53,
   "id": "5163bbde",
   "metadata": {},
   "outputs": [
    {
     "data": {
      "text/plain": [
       "0"
      ]
     },
     "execution_count": 53,
     "metadata": {},
     "output_type": "execute_result"
    }
   ],
   "source": [
    "df_crypto.isna().any(axis=1).sum()"
   ]
  },
  {
   "cell_type": "code",
   "execution_count": 54,
   "id": "fa86a550",
   "metadata": {},
   "outputs": [
    {
     "data": {
      "text/plain": [
       "SNo          0\n",
       "Name         0\n",
       "Symbol       0\n",
       "Date         0\n",
       "High         0\n",
       "Low          0\n",
       "Open         0\n",
       "Close        0\n",
       "Volume       0\n",
       "Marketcap    0\n",
       "dtype: int64"
      ]
     },
     "execution_count": 54,
     "metadata": {},
     "output_type": "execute_result"
    }
   ],
   "source": [
    "df_crypto.isnull().sum()"
   ]
  },
  {
   "cell_type": "code",
   "execution_count": 65,
   "id": "2a7eafba",
   "metadata": {},
   "outputs": [
    {
     "data": {
      "text/plain": [
       "<AxesSubplot:>"
      ]
     },
     "execution_count": 65,
     "metadata": {},
     "output_type": "execute_result"
    },
    {
     "data": {
      "image/png": "[encoded data removed]",
      "text/plain": [
       "<Figure size 432x288 with 1 Axes>"
      ]
     },
     "metadata": {
      "needs_background": "light"
     },
     "output_type": "display_data"
    }
   ],
   "source": [
    "df_crypto.boxplot()"
   ]
  },
  {
   "cell_type": "code",
   "execution_count": 66,
   "id": "4fa9c4fb",
   "metadata": {},
   "outputs": [
    {
     "name": "stdout",
     "output_type": "stream",
     "text": [
      "SNo          1.330000e+03\n",
      "High         5.740328e+02\n",
      "Low          5.252235e+02\n",
      "Open         5.516351e+02\n",
      "Close        5.561350e+02\n",
      "Volume       3.397971e+09\n",
      "Marketcap    2.899219e+10\n",
      "dtype: float64\n"
     ]
    }
   ],
   "source": [
    "Q1 = df_crypto.quantile(0.25)\n",
    "Q3 = df_crypto.quantile(0.75)\n",
    "IQR = Q3 - Q1\n",
    "print(IQR)"
   ]
  },
  {
   "cell_type": "code",
   "execution_count": 68,
   "id": "6b84234e",
   "metadata": {},
   "outputs": [
    {
     "data": {
      "text/plain": [
       "(9737, 10)"
      ]
     },
     "execution_count": 68,
     "metadata": {},
     "output_type": "execute_result"
    }
   ],
   "source": [
    "df_crypto.shape"
   ]
  },
  {
   "cell_type": "code",
   "execution_count": 70,
   "id": "e41ab72f",
   "metadata": {},
   "outputs": [
    {
     "name": "stderr",
     "output_type": "stream",
     "text": [
      "/var/folders/rl/rx4_64yd2mxg15bcxfmhj8m00000gn/T/ipykernel_1296/236017468.py:1: FutureWarning: Automatic reindexing on DataFrame vs Series comparisons is deprecated and will raise ValueError in a future version.  Do `left, right = left.align(right, axis=1, copy=False)` before e.g. `left == right`\n",
      "  df_out = df_crypto[~((df_crypto < (Q1-1.5 * IQR)) |(df_crypto > (Q3 + 1.5 * IQR))).any(axis=1)]\n"
     ]
    },
    {
     "ename": "AttributeError",
     "evalue": "'DataFrame' object has no attribute 'pd'",
     "output_type": "error",
     "traceback": [
      "\u001b[0;31m---------------------------------------------------------------------------\u001b[0m",
      "\u001b[0;31mAttributeError\u001b[0m                            Traceback (most recent call last)",
      "\u001b[0;32m/var/folders/rl/rx4_64yd2mxg15bcxfmhj8m00000gn/T/ipykernel_1296/236017468.py\u001b[0m in \u001b[0;36m<module>\u001b[0;34m\u001b[0m\n\u001b[1;32m      1\u001b[0m \u001b[0mdf_out\u001b[0m \u001b[0;34m=\u001b[0m \u001b[0mdf_crypto\u001b[0m\u001b[0;34m[\u001b[0m\u001b[0;34m~\u001b[0m\u001b[0;34m(\u001b[0m\u001b[0;34m(\u001b[0m\u001b[0mdf_crypto\u001b[0m \u001b[0;34m<\u001b[0m \u001b[0;34m(\u001b[0m\u001b[0mQ1\u001b[0m\u001b[0;34m-\u001b[0m\u001b[0;36m1.5\u001b[0m \u001b[0;34m*\u001b[0m \u001b[0mIQR\u001b[0m\u001b[0;34m)\u001b[0m\u001b[0;34m)\u001b[0m \u001b[0;34m|\u001b[0m\u001b[0;34m(\u001b[0m\u001b[0mdf_crypto\u001b[0m \u001b[0;34m>\u001b[0m \u001b[0;34m(\u001b[0m\u001b[0mQ3\u001b[0m \u001b[0;34m+\u001b[0m \u001b[0;36m1.5\u001b[0m \u001b[0;34m*\u001b[0m \u001b[0mIQR\u001b[0m\u001b[0;34m)\u001b[0m\u001b[0;34m)\u001b[0m\u001b[0;34m)\u001b[0m\u001b[0;34m.\u001b[0m\u001b[0many\u001b[0m\u001b[0;34m(\u001b[0m\u001b[0maxis\u001b[0m\u001b[0;34m=\u001b[0m\u001b[0;36m1\u001b[0m\u001b[0;34m)\u001b[0m\u001b[0;34m]\u001b[0m\u001b[0;34m\u001b[0m\u001b[0;34m\u001b[0m\u001b[0m\n\u001b[0;32m----> 2\u001b[0;31m \u001b[0mdf_out\u001b[0m\u001b[0;34m.\u001b[0m\u001b[0mpd\u001b[0m\u001b[0;34m.\u001b[0m\u001b[0mDataFrame\u001b[0m\u001b[0;34m\u001b[0m\u001b[0;34m\u001b[0m\u001b[0m\n\u001b[0m",
      "\u001b[0;32m/opt/anaconda3/lib/python3.9/site-packages/pandas/core/generic.py\u001b[0m in \u001b[0;36m__getattr__\u001b[0;34m(self, name)\u001b[0m\n\u001b[1;32m   5485\u001b[0m         ):\n\u001b[1;32m   5486\u001b[0m             \u001b[0;32mreturn\u001b[0m \u001b[0mself\u001b[0m\u001b[0;34m[\u001b[0m\u001b[0mname\u001b[0m\u001b[0;34m]\u001b[0m\u001b[0;34m\u001b[0m\u001b[0;34m\u001b[0m\u001b[0m\n\u001b[0;32m-> 5487\u001b[0;31m         \u001b[0;32mreturn\u001b[0m \u001b[0mobject\u001b[0m\u001b[0;34m.\u001b[0m\u001b[0m__getattribute__\u001b[0m\u001b[0;34m(\u001b[0m\u001b[0mself\u001b[0m\u001b[0;34m,\u001b[0m \u001b[0mname\u001b[0m\u001b[0;34m)\u001b[0m\u001b[0;34m\u001b[0m\u001b[0;34m\u001b[0m\u001b[0m\n\u001b[0m\u001b[1;32m   5488\u001b[0m \u001b[0;34m\u001b[0m\u001b[0m\n\u001b[1;32m   5489\u001b[0m     \u001b[0;32mdef\u001b[0m \u001b[0m__setattr__\u001b[0m\u001b[0;34m(\u001b[0m\u001b[0mself\u001b[0m\u001b[0;34m,\u001b[0m \u001b[0mname\u001b[0m\u001b[0;34m:\u001b[0m \u001b[0mstr\u001b[0m\u001b[0;34m,\u001b[0m \u001b[0mvalue\u001b[0m\u001b[0;34m)\u001b[0m \u001b[0;34m->\u001b[0m \u001b[0;32mNone\u001b[0m\u001b[0;34m:\u001b[0m\u001b[0;34m\u001b[0m\u001b[0;34m\u001b[0m\u001b[0m\n",
      "\u001b[0;31mAttributeError\u001b[0m: 'DataFrame' object has no attribute 'pd'"
     ]
    }
   ],
   "source": [
    "df_out = df_crypto[~((df_crypto < (Q1-1.5 * IQR)) |(df_crypto > (Q3 + 1.5 * IQR))).any(axis=1)]\n",
    "df_out.pd.DataFrame"
   ]
  },
  {
   "cell_type": "code",
   "execution_count": null,
   "id": "d215fa37",
   "metadata": {},
   "outputs": [],
   "source": []
  },
  {
   "cell_type": "code",
   "execution_count": 9,
   "id": "fcfdd820",
   "metadata": {},
   "outputs": [],
   "source": [
    "df_crypto['Date'] = pd.to_datetime(df_crypto['Date'])"
   ]
  },
  {
   "cell_type": "code",
   "execution_count": 12,
   "id": "deb78fe3",
   "metadata": {},
   "outputs": [
    {
     "name": "stdout",
     "output_type": "stream",
     "text": [
      "<class 'pandas.core.frame.DataFrame'>\n",
      "Int64Index: 9737 entries, 0 to 451\n",
      "Data columns (total 10 columns):\n",
      " #   Column     Non-Null Count  Dtype         \n",
      "---  ------     --------------  -----         \n",
      " 0   SNo        9737 non-null   int64         \n",
      " 1   Name       9737 non-null   object        \n",
      " 2   Symbol     9737 non-null   object        \n",
      " 3   Date       9737 non-null   datetime64[ns]\n",
      " 4   High       9737 non-null   float64       \n",
      " 5   Low        9737 non-null   float64       \n",
      " 6   Open       9737 non-null   float64       \n",
      " 7   Close      9737 non-null   float64       \n",
      " 8   Volume     9737 non-null   float64       \n",
      " 9   Marketcap  9737 non-null   float64       \n",
      "dtypes: datetime64[ns](1), float64(6), int64(1), object(2)\n",
      "memory usage: 836.8+ KB\n"
     ]
    }
   ],
   "source": [
    "df_crypto.info()"
   ]
  },
  {
   "cell_type": "code",
   "execution_count": 19,
   "id": "a569f249",
   "metadata": {},
   "outputs": [],
   "source": [
    "df1 = pd.DataFrame({'date': np.array([datetime.datetime(2021, \n",
    "                    12, i+1) for i in range(20)]),\n",
    "                   'blogs_read': [4, 6, 5, 8, 15, 13, 18, 6, 5, \n",
    "                  3, 15, 14, 19, 21, 15, 19, 25, 24, 16, 26]})\n",
    "\n",
    "df2 = pd.DataFrame({'date': np.array([datetime.datetime(2021, \n",
    "                     12, i+1)\n",
    " for i in range(20)]),\n",
    "                   'blogs_unread': [1, 1, 2, 3, 3, 3, 4, 3, 2,     \n",
    "                    3, 4, 7, 5, 3, 2, 4, 3, 6, 1, 2]})"
   ]
  },
  {
   "cell_type": "code",
   "execution_count": 20,
   "id": "a6d850c6",
   "metadata": {
    "scrolled": true
   },
   "outputs": [
    {
     "data": {
      "text/html": [
       "<div>\n",
       "<style scoped>\n",
       "    .dataframe tbody tr th:only-of-type {\n",
       "        vertical-align: middle;\n",
       "    }\n",
       "\n",
       "    .dataframe tbody tr th {\n",
       "        vertical-align: top;\n",
       "    }\n",
       "\n",
       "    .dataframe thead th {\n",
       "        text-align: right;\n",
       "    }\n",
       "</style>\n",
       "<table border=\"1\" class=\"dataframe\">\n",
       "  <thead>\n",
       "    <tr style=\"text-align: right;\">\n",
       "      <th></th>\n",
       "      <th>date</th>\n",
       "      <th>blogs_read</th>\n",
       "    </tr>\n",
       "  </thead>\n",
       "  <tbody>\n",
       "    <tr>\n",
       "      <th>0</th>\n",
       "      <td>2021-12-01</td>\n",
       "      <td>4</td>\n",
       "    </tr>\n",
       "    <tr>\n",
       "      <th>1</th>\n",
       "      <td>2021-12-02</td>\n",
       "      <td>6</td>\n",
       "    </tr>\n",
       "    <tr>\n",
       "      <th>2</th>\n",
       "      <td>2021-12-03</td>\n",
       "      <td>5</td>\n",
       "    </tr>\n",
       "    <tr>\n",
       "      <th>3</th>\n",
       "      <td>2021-12-04</td>\n",
       "      <td>8</td>\n",
       "    </tr>\n",
       "    <tr>\n",
       "      <th>4</th>\n",
       "      <td>2021-12-05</td>\n",
       "      <td>15</td>\n",
       "    </tr>\n",
       "  </tbody>\n",
       "</table>\n",
       "</div>"
      ],
      "text/plain": [
       "        date  blogs_read\n",
       "0 2021-12-01           4\n",
       "1 2021-12-02           6\n",
       "2 2021-12-03           5\n",
       "3 2021-12-04           8\n",
       "4 2021-12-05          15"
      ]
     },
     "execution_count": 20,
     "metadata": {},
     "output_type": "execute_result"
    }
   ],
   "source": [
    "df1.head()"
   ]
  },
  {
   "cell_type": "code",
   "execution_count": 21,
   "id": "7aed4bac",
   "metadata": {},
   "outputs": [
    {
     "data": {
      "text/html": [
       "<div>\n",
       "<style scoped>\n",
       "    .dataframe tbody tr th:only-of-type {\n",
       "        vertical-align: middle;\n",
       "    }\n",
       "\n",
       "    .dataframe tbody tr th {\n",
       "        vertical-align: top;\n",
       "    }\n",
       "\n",
       "    .dataframe thead th {\n",
       "        text-align: right;\n",
       "    }\n",
       "</style>\n",
       "<table border=\"1\" class=\"dataframe\">\n",
       "  <thead>\n",
       "    <tr style=\"text-align: right;\">\n",
       "      <th></th>\n",
       "      <th>SNo</th>\n",
       "      <th>Name</th>\n",
       "      <th>Symbol</th>\n",
       "      <th>Date</th>\n",
       "      <th>High</th>\n",
       "      <th>Low</th>\n",
       "      <th>Open</th>\n",
       "      <th>Close</th>\n",
       "      <th>Volume</th>\n",
       "      <th>Marketcap</th>\n",
       "    </tr>\n",
       "  </thead>\n",
       "  <tbody>\n",
       "    <tr>\n",
       "      <th>0</th>\n",
       "      <td>1</td>\n",
       "      <td>Bitcoin</td>\n",
       "      <td>BTC</td>\n",
       "      <td>2013-04-29 23:59:59</td>\n",
       "      <td>147.488007</td>\n",
       "      <td>134.000000</td>\n",
       "      <td>134.444000</td>\n",
       "      <td>144.539993</td>\n",
       "      <td>0.0</td>\n",
       "      <td>1.603769e+09</td>\n",
       "    </tr>\n",
       "    <tr>\n",
       "      <th>1</th>\n",
       "      <td>2</td>\n",
       "      <td>Bitcoin</td>\n",
       "      <td>BTC</td>\n",
       "      <td>2013-04-30 23:59:59</td>\n",
       "      <td>146.929993</td>\n",
       "      <td>134.050003</td>\n",
       "      <td>144.000000</td>\n",
       "      <td>139.000000</td>\n",
       "      <td>0.0</td>\n",
       "      <td>1.542813e+09</td>\n",
       "    </tr>\n",
       "    <tr>\n",
       "      <th>2</th>\n",
       "      <td>3</td>\n",
       "      <td>Bitcoin</td>\n",
       "      <td>BTC</td>\n",
       "      <td>2013-05-01 23:59:59</td>\n",
       "      <td>139.889999</td>\n",
       "      <td>107.720001</td>\n",
       "      <td>139.000000</td>\n",
       "      <td>116.989998</td>\n",
       "      <td>0.0</td>\n",
       "      <td>1.298955e+09</td>\n",
       "    </tr>\n",
       "    <tr>\n",
       "      <th>3</th>\n",
       "      <td>4</td>\n",
       "      <td>Bitcoin</td>\n",
       "      <td>BTC</td>\n",
       "      <td>2013-05-02 23:59:59</td>\n",
       "      <td>125.599998</td>\n",
       "      <td>92.281898</td>\n",
       "      <td>116.379997</td>\n",
       "      <td>105.209999</td>\n",
       "      <td>0.0</td>\n",
       "      <td>1.168517e+09</td>\n",
       "    </tr>\n",
       "    <tr>\n",
       "      <th>4</th>\n",
       "      <td>5</td>\n",
       "      <td>Bitcoin</td>\n",
       "      <td>BTC</td>\n",
       "      <td>2013-05-03 23:59:59</td>\n",
       "      <td>108.127998</td>\n",
       "      <td>79.099998</td>\n",
       "      <td>106.250000</td>\n",
       "      <td>97.750000</td>\n",
       "      <td>0.0</td>\n",
       "      <td>1.085995e+09</td>\n",
       "    </tr>\n",
       "  </tbody>\n",
       "</table>\n",
       "</div>"
      ],
      "text/plain": [
       "   SNo     Name Symbol                 Date        High         Low  \\\n",
       "0    1  Bitcoin    BTC  2013-04-29 23:59:59  147.488007  134.000000   \n",
       "1    2  Bitcoin    BTC  2013-04-30 23:59:59  146.929993  134.050003   \n",
       "2    3  Bitcoin    BTC  2013-05-01 23:59:59  139.889999  107.720001   \n",
       "3    4  Bitcoin    BTC  2013-05-02 23:59:59  125.599998   92.281898   \n",
       "4    5  Bitcoin    BTC  2013-05-03 23:59:59  108.127998   79.099998   \n",
       "\n",
       "         Open       Close  Volume     Marketcap  \n",
       "0  134.444000  144.539993     0.0  1.603769e+09  \n",
       "1  144.000000  139.000000     0.0  1.542813e+09  \n",
       "2  139.000000  116.989998     0.0  1.298955e+09  \n",
       "3  116.379997  105.209999     0.0  1.168517e+09  \n",
       "4  106.250000   97.750000     0.0  1.085995e+09  "
      ]
     },
     "execution_count": 21,
     "metadata": {},
     "output_type": "execute_result"
    }
   ],
   "source": [
    "df_btc.head()"
   ]
  },
  {
   "cell_type": "code",
   "execution_count": 31,
   "id": "7143fc7e",
   "metadata": {
    "scrolled": false
   },
   "outputs": [
    {
     "data": {
      "image/png": "[encoded data removed]",
      "text/plain": [
       "<Figure size 864x576 with 1 Axes>"
      ]
     },
     "metadata": {},
     "output_type": "display_data"
    }
   ],
   "source": [
    "fig = plt.figure(figsize=(12, 8))\n",
    "\n",
    "plt.plot(df_btc.Date, df_btc.Close, label='Bitcoin', \n",
    "         linewidth=3)\n",
    "plt.plot(df_eth.Date, df_eth.Close, color='red', \n",
    "         label='Ethereum', linewidth=3)\n",
    "plt.plot(df_dog.Date, df_dog.Close, color='green', \n",
    "         label='Dogecoin', linewidth=3)\n",
    "plt.plot(df_car.Date, df_car.Close, color='black', \n",
    "         label='Cardano', linewidth=3)\n",
    "plt.plot(df_sol.Date, df_sol.Close, color='yellow', \n",
    "         label='Solana', linewidth=3)\n",
    "\n",
    "# Add title and labels\n",
    "\n",
    "plt.title('Closing price of Criptocurrency')\n",
    "plt.xlabel('Date')\n",
    "plt.ylabel('Close')\n",
    "\n",
    "# Add legend\n",
    "plt.xticks([\"2013-04-29 23:59:59\", \"2014-04-29 23:59:59\",\"2015-04-29 23:59:59\",\"2016-04-29 23:59:59\",\"2017-04-29 23:59:59\",\n",
    "            \"2018-04-29 23:59:59\",\"2019-04-29 23:59:59\",\"2020-04-29 23:59:59\",\"2021-04-29 23:59:59\"], [2013,2014,2015,2016,2017,2018,2019,2020,2021])\n",
    "plt.legend()\n",
    "\n",
    "# Auto space\n",
    "\n",
    "plt.tight_layout()\n",
    "\n",
    "# Display plot\n",
    "\n",
    "plt.show() "
   ]
  },
  {
   "cell_type": "code",
   "execution_count": 32,
   "id": "0f932f94",
   "metadata": {},
   "outputs": [
    {
     "data": {
      "image/png": "[encoded data removed]",
      "text/plain": [
       "<Figure size 864x576 with 1 Axes>"
      ]
     },
     "metadata": {},
     "output_type": "display_data"
    }
   ],
   "source": [
    "fig = plt.figure(figsize=(12, 8))\n",
    "\n",
    "plt.plot(df_btc.Date, df_btc.Marketcap, label='Bitcoin', \n",
    "         linewidth=3)\n",
    "plt.plot(df_eth.Date, df_eth.Marketcap, color='red', \n",
    "         label='Ethereum', linewidth=3)\n",
    "plt.plot(df_dog.Date, df_dog.Marketcap, color='green', \n",
    "         label='Dogecoin', linewidth=3)\n",
    "plt.plot(df_car.Date, df_car.Marketcap, color='black', \n",
    "         label='Cardano', linewidth=3)\n",
    "plt.plot(df_sol.Date, df_sol.Marketcap, color='yellow', \n",
    "         label='Solana', linewidth=3)\n",
    "\n",
    "# Add title and labels\n",
    "\n",
    "plt.title('Market capitalization')\n",
    "plt.xlabel('Date')\n",
    "plt.ylabel('USD')\n",
    "\n",
    "# Add legend\n",
    "plt.xticks([\"2013-04-29 23:59:59\", \"2014-04-29 23:59:59\",\"2015-04-29 23:59:59\",\"2016-04-29 23:59:59\",\"2017-04-29 23:59:59\",\n",
    "            \"2018-04-29 23:59:59\",\"2019-04-29 23:59:59\",\"2020-04-29 23:59:59\",\"2021-04-29 23:59:59\"], [2013,2014,2015,2016,2017,2018,2019,2020,2021])\n",
    "plt.legend()\n",
    "\n",
    "# Auto space\n",
    "\n",
    "plt.tight_layout()\n",
    "\n",
    "# Display plot\n",
    "\n",
    "plt.show() "
   ]
  },
  {
   "cell_type": "code",
   "execution_count": null,
   "id": "dbb3c243",
   "metadata": {},
   "outputs": [],
   "source": []
  },
  {
   "cell_type": "code",
   "execution_count": null,
   "id": "3d92adeb",
   "metadata": {},
   "outputs": [],
   "source": []
  }
 ],
 "metadata": {
  "kernelspec": {
   "display_name": "Python 3 (ipykernel)",
   "language": "python",
   "name": "python3"
  },
  "language_info": {
   "codemirror_mode": {
    "name": "ipython",
    "version": 3
   },
   "file_extension": ".py",
   "mimetype": "text/x-python",
   "name": "python",
   "nbconvert_exporter": "python",
   "pygments_lexer": "ipython3",
   "version": "3.9.7"
  }
 },
 "nbformat": 4,
 "nbformat_minor": 5
}


