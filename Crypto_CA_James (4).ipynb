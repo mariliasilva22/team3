{
 "cells": [
  {
   "cell_type": "markdown",
   "id": "55e27250",
   "metadata": {},
   "source": [
    " # <center> CA <center>\n",
    "\n",
    " # <center> Strategic Thinking <center>\n",
    "\n",
    " ## <center> Cryptocurrence <center>\n",
    "    \n",
    "### <center>TEAM 3 <center>\n",
    "\n",
    "### <center>Eduarda Schein <center>\n",
    "\n",
    "### <center>Marilia Silva <center>\n",
    "\n",
    "### <center>Gustavo Martinele <center>\n",
    "\n",
    "### <center>Erica Lima <center>\n",
    "\n",
    "### <center>Lucas Pontes <center>\n",
    "\n",
    "### <center>Muhammad Nauman <center>"
   ]
  },
  {
   "cell_type": "markdown",
   "id": "ca57e092",
   "metadata": {},
   "source": [
    "## Introduction"
   ]
  },
  {
   "cell_type": "markdown",
   "id": "7d48e7c7",
   "metadata": {},
   "source": [
    "Cryptocurrency is any digital currency: they are not tangible;\n",
    "\n",
    "Non-tangible: users own a key;\n",
    "\n",
    "It is secured by using cryptography in transactions (this is where the name cryptocurrency comes from);\n",
    "\n",
    "The first crypto was Bitcoin, created in 2009 and remains the most popular;\n",
    "\n",
    "8 datasets used to perform the analysis."
   ]
  },
  {
   "cell_type": "markdown",
   "id": "f61fa74e",
   "metadata": {},
   "source": [
    "## Business Understanding"
   ]
  },
  {
   "cell_type": "markdown",
   "id": "281cef40",
   "metadata": {},
   "source": []
  },
  {
   "cell_type": "markdown",
   "id": "8875cad0",
   "metadata": {},
   "source": [
    "### Data Dictionary"
   ]
  },
  {
   "attachments": {
    "image-2.png": {
     "image/png": "[encoded data removed]"
    }
   },
   "cell_type": "markdown",
   "id": "cadc2d4e",
   "metadata": {},
   "source": [
    "\n",
    "\n",
    "![image-2.png](attachment:image-2.png)"
   ]
  },
  {
   "cell_type": "markdown",
   "id": "1bb81622",
   "metadata": {},
   "source": [
    "## Data Understanding"
   ]
  },
  {
   "cell_type": "markdown",
   "id": "1696322a",
   "metadata": {},
   "source": [
    "### Importing libraries"
   ]
  },
  {
   "cell_type": "code",
   "execution_count": 1,
   "id": "52141da4",
   "metadata": {},
   "outputs": [],
   "source": [
    "#Importing libraries \n",
    "import pandas as pd\n",
    "import numpy as np\n",
    "import matplotlib.dates as mdates\n",
    "import matplotlib.pyplot as plt\n",
    "\n",
    "import seaborn as sns\n",
    "import datetime\n",
    "import seaborn as sns\n",
    "from plotly.offline import init_notebook_mode, iplot\n",
    "import plotly.figure_factory as ff\n",
    "\n",
    "# Handling warnings\n",
    "import warnings\n",
    "warnings.filterwarnings('ignore')"
   ]
  },
  {
   "cell_type": "code",
   "execution_count": 10,
   "id": "ac7d315c",
   "metadata": {},
   "outputs": [],
   "source": [
    "df_btc = pd.read_csv(\"coin_Bitcoin.csv\")\n",
    "df_eth = pd.read_csv(\"coin_Ethereum.csv\")\n",
    "df_usdt = pd.read_csv(\"coin_Tether.csv\")\n",
    "df_bnb = pd.read_csv(\"coin_BinanceCoin.csv\")\n",
    "df_usdc = pd.read_csv(\"coin_USDCoin.csv\")\n",
    "df_sol = pd.read_csv(\"coin_Solana.csv\")\n",
    "df_xrp = pd.read_csv(\"coin_XRP.csv\")\n",
    "df_ada = pd.read_csv(\"coin_Cardano.csv\")"
   ]
  },
  {
   "cell_type": "code",
   "execution_count": 12,
   "id": "8cf31889",
   "metadata": {},
   "outputs": [],
   "source": [
    "df_crypto= pd.concat([df_btc, df_eth,df_usdt, df_bnb, df_usdc, df_sol,df_xrp, df_ada])"
   ]
  },
  {
   "cell_type": "code",
   "execution_count": 13,
   "id": "11c17790",
   "metadata": {},
   "outputs": [
    {
     "data": {
      "text/html": [
       "<div>\n",
       "<style scoped>\n",
       "    .dataframe tbody tr th:only-of-type {\n",
       "        vertical-align: middle;\n",
       "    }\n",
       "\n",
       "    .dataframe tbody tr th {\n",
       "        vertical-align: top;\n",
       "    }\n",
       "\n",
       "    .dataframe thead th {\n",
       "        text-align: right;\n",
       "    }\n",
       "</style>\n",
       "<table border=\"1\" class=\"dataframe\">\n",
       "  <thead>\n",
       "    <tr style=\"text-align: right;\">\n",
       "      <th></th>\n",
       "      <th>SNo</th>\n",
       "      <th>Name</th>\n",
       "      <th>Symbol</th>\n",
       "      <th>Date</th>\n",
       "      <th>High</th>\n",
       "      <th>Low</th>\n",
       "      <th>Open</th>\n",
       "      <th>Close</th>\n",
       "      <th>Volume</th>\n",
       "      <th>Marketcap</th>\n",
       "    </tr>\n",
       "  </thead>\n",
       "  <tbody>\n",
       "    <tr>\n",
       "      <th>0</th>\n",
       "      <td>1</td>\n",
       "      <td>Bitcoin</td>\n",
       "      <td>BTC</td>\n",
       "      <td>2013-04-29 23:59:59</td>\n",
       "      <td>147.488007</td>\n",
       "      <td>134.000000</td>\n",
       "      <td>134.444000</td>\n",
       "      <td>144.539993</td>\n",
       "      <td>0.0</td>\n",
       "      <td>1.603769e+09</td>\n",
       "    </tr>\n",
       "    <tr>\n",
       "      <th>1</th>\n",
       "      <td>2</td>\n",
       "      <td>Bitcoin</td>\n",
       "      <td>BTC</td>\n",
       "      <td>2013-04-30 23:59:59</td>\n",
       "      <td>146.929993</td>\n",
       "      <td>134.050003</td>\n",
       "      <td>144.000000</td>\n",
       "      <td>139.000000</td>\n",
       "      <td>0.0</td>\n",
       "      <td>1.542813e+09</td>\n",
       "    </tr>\n",
       "    <tr>\n",
       "      <th>2</th>\n",
       "      <td>3</td>\n",
       "      <td>Bitcoin</td>\n",
       "      <td>BTC</td>\n",
       "      <td>2013-05-01 23:59:59</td>\n",
       "      <td>139.889999</td>\n",
       "      <td>107.720001</td>\n",
       "      <td>139.000000</td>\n",
       "      <td>116.989998</td>\n",
       "      <td>0.0</td>\n",
       "      <td>1.298955e+09</td>\n",
       "    </tr>\n",
       "    <tr>\n",
       "      <th>3</th>\n",
       "      <td>4</td>\n",
       "      <td>Bitcoin</td>\n",
       "      <td>BTC</td>\n",
       "      <td>2013-05-02 23:59:59</td>\n",
       "      <td>125.599998</td>\n",
       "      <td>92.281898</td>\n",
       "      <td>116.379997</td>\n",
       "      <td>105.209999</td>\n",
       "      <td>0.0</td>\n",
       "      <td>1.168517e+09</td>\n",
       "    </tr>\n",
       "    <tr>\n",
       "      <th>4</th>\n",
       "      <td>5</td>\n",
       "      <td>Bitcoin</td>\n",
       "      <td>BTC</td>\n",
       "      <td>2013-05-03 23:59:59</td>\n",
       "      <td>108.127998</td>\n",
       "      <td>79.099998</td>\n",
       "      <td>106.250000</td>\n",
       "      <td>97.750000</td>\n",
       "      <td>0.0</td>\n",
       "      <td>1.085995e+09</td>\n",
       "    </tr>\n",
       "  </tbody>\n",
       "</table>\n",
       "</div>"
      ],
      "text/plain": [
       "   SNo     Name Symbol                 Date        High         Low  \\\n",
       "0    1  Bitcoin    BTC  2013-04-29 23:59:59  147.488007  134.000000   \n",
       "1    2  Bitcoin    BTC  2013-04-30 23:59:59  146.929993  134.050003   \n",
       "2    3  Bitcoin    BTC  2013-05-01 23:59:59  139.889999  107.720001   \n",
       "3    4  Bitcoin    BTC  2013-05-02 23:59:59  125.599998   92.281898   \n",
       "4    5  Bitcoin    BTC  2013-05-03 23:59:59  108.127998   79.099998   \n",
       "\n",
       "         Open       Close  Volume     Marketcap  \n",
       "0  134.444000  144.539993     0.0  1.603769e+09  \n",
       "1  144.000000  139.000000     0.0  1.542813e+09  \n",
       "2  139.000000  116.989998     0.0  1.298955e+09  \n",
       "3  116.379997  105.209999     0.0  1.168517e+09  \n",
       "4  106.250000   97.750000     0.0  1.085995e+09  "
      ]
     },
     "execution_count": 13,
     "metadata": {},
     "output_type": "execute_result"
    }
   ],
   "source": [
    "df_crypto.head()"
   ]
  },
  {
   "cell_type": "code",
   "execution_count": 14,
   "id": "974a678b",
   "metadata": {},
   "outputs": [
    {
     "data": {
      "text/html": [
       "<div>\n",
       "<style scoped>\n",
       "    .dataframe tbody tr th:only-of-type {\n",
       "        vertical-align: middle;\n",
       "    }\n",
       "\n",
       "    .dataframe tbody tr th {\n",
       "        vertical-align: top;\n",
       "    }\n",
       "\n",
       "    .dataframe thead th {\n",
       "        text-align: right;\n",
       "    }\n",
       "</style>\n",
       "<table border=\"1\" class=\"dataframe\">\n",
       "  <thead>\n",
       "    <tr style=\"text-align: right;\">\n",
       "      <th></th>\n",
       "      <th>SNo</th>\n",
       "      <th>Name</th>\n",
       "      <th>Symbol</th>\n",
       "      <th>Date</th>\n",
       "      <th>High</th>\n",
       "      <th>Low</th>\n",
       "      <th>Open</th>\n",
       "      <th>Close</th>\n",
       "      <th>Volume</th>\n",
       "      <th>Marketcap</th>\n",
       "    </tr>\n",
       "  </thead>\n",
       "  <tbody>\n",
       "    <tr>\n",
       "      <th>1369</th>\n",
       "      <td>1370</td>\n",
       "      <td>Cardano</td>\n",
       "      <td>ADA</td>\n",
       "      <td>2021-07-02 23:59:59</td>\n",
       "      <td>1.394397</td>\n",
       "      <td>1.286607</td>\n",
       "      <td>1.332942</td>\n",
       "      <td>1.394397</td>\n",
       "      <td>2.159410e+09</td>\n",
       "      <td>4.454587e+10</td>\n",
       "    </tr>\n",
       "    <tr>\n",
       "      <th>1370</th>\n",
       "      <td>1371</td>\n",
       "      <td>Cardano</td>\n",
       "      <td>ADA</td>\n",
       "      <td>2021-07-03 23:59:59</td>\n",
       "      <td>1.441714</td>\n",
       "      <td>1.359664</td>\n",
       "      <td>1.394152</td>\n",
       "      <td>1.406836</td>\n",
       "      <td>2.028094e+09</td>\n",
       "      <td>4.494324e+10</td>\n",
       "    </tr>\n",
       "    <tr>\n",
       "      <th>1371</th>\n",
       "      <td>1372</td>\n",
       "      <td>Cardano</td>\n",
       "      <td>ADA</td>\n",
       "      <td>2021-07-04 23:59:59</td>\n",
       "      <td>1.493717</td>\n",
       "      <td>1.382153</td>\n",
       "      <td>1.404008</td>\n",
       "      <td>1.458184</td>\n",
       "      <td>1.806362e+09</td>\n",
       "      <td>4.658364e+10</td>\n",
       "    </tr>\n",
       "    <tr>\n",
       "      <th>1372</th>\n",
       "      <td>1373</td>\n",
       "      <td>Cardano</td>\n",
       "      <td>ADA</td>\n",
       "      <td>2021-07-05 23:59:59</td>\n",
       "      <td>1.461221</td>\n",
       "      <td>1.379284</td>\n",
       "      <td>1.461221</td>\n",
       "      <td>1.404898</td>\n",
       "      <td>1.759461e+09</td>\n",
       "      <td>4.488134e+10</td>\n",
       "    </tr>\n",
       "    <tr>\n",
       "      <th>1373</th>\n",
       "      <td>1374</td>\n",
       "      <td>Cardano</td>\n",
       "      <td>ADA</td>\n",
       "      <td>2021-07-06 23:59:59</td>\n",
       "      <td>1.456887</td>\n",
       "      <td>1.393282</td>\n",
       "      <td>1.404712</td>\n",
       "      <td>1.418053</td>\n",
       "      <td>1.477700e+09</td>\n",
       "      <td>4.530158e+10</td>\n",
       "    </tr>\n",
       "  </tbody>\n",
       "</table>\n",
       "</div>"
      ],
      "text/plain": [
       "       SNo     Name Symbol                 Date      High       Low      Open  \\\n",
       "1369  1370  Cardano    ADA  2021-07-02 23:59:59  1.394397  1.286607  1.332942   \n",
       "1370  1371  Cardano    ADA  2021-07-03 23:59:59  1.441714  1.359664  1.394152   \n",
       "1371  1372  Cardano    ADA  2021-07-04 23:59:59  1.493717  1.382153  1.404008   \n",
       "1372  1373  Cardano    ADA  2021-07-05 23:59:59  1.461221  1.379284  1.461221   \n",
       "1373  1374  Cardano    ADA  2021-07-06 23:59:59  1.456887  1.393282  1.404712   \n",
       "\n",
       "         Close        Volume     Marketcap  \n",
       "1369  1.394397  2.159410e+09  4.454587e+10  \n",
       "1370  1.406836  2.028094e+09  4.494324e+10  \n",
       "1371  1.458184  1.806362e+09  4.658364e+10  \n",
       "1372  1.404898  1.759461e+09  4.488134e+10  \n",
       "1373  1.418053  1.477700e+09  4.530158e+10  "
      ]
     },
     "execution_count": 14,
     "metadata": {},
     "output_type": "execute_result"
    }
   ],
   "source": [
    "df_crypto.tail()"
   ]
  },
  {
   "cell_type": "code",
   "execution_count": 15,
   "id": "c3b24b52",
   "metadata": {},
   "outputs": [
    {
     "data": {
      "text/plain": [
       "(14632, 10)"
      ]
     },
     "execution_count": 15,
     "metadata": {},
     "output_type": "execute_result"
    }
   ],
   "source": [
    "df_crypto.shape"
   ]
  },
  {
   "cell_type": "code",
   "execution_count": 16,
   "id": "6f429495",
   "metadata": {},
   "outputs": [
    {
     "name": "stdout",
     "output_type": "stream",
     "text": [
      "<class 'pandas.core.frame.DataFrame'>\n",
      "Int64Index: 14632 entries, 0 to 1373\n",
      "Data columns (total 10 columns):\n",
      " #   Column     Non-Null Count  Dtype  \n",
      "---  ------     --------------  -----  \n",
      " 0   SNo        14632 non-null  int64  \n",
      " 1   Name       14632 non-null  object \n",
      " 2   Symbol     14632 non-null  object \n",
      " 3   Date       14632 non-null  object \n",
      " 4   High       14632 non-null  float64\n",
      " 5   Low        14632 non-null  float64\n",
      " 6   Open       14632 non-null  float64\n",
      " 7   Close      14632 non-null  float64\n",
      " 8   Volume     14632 non-null  float64\n",
      " 9   Marketcap  14632 non-null  float64\n",
      "dtypes: float64(6), int64(1), object(3)\n",
      "memory usage: 1.2+ MB\n"
     ]
    }
   ],
   "source": [
    "df_crypto.info()"
   ]
  },
  {
   "cell_type": "code",
   "execution_count": 17,
   "id": "ab9c4dcf",
   "metadata": {},
   "outputs": [
    {
     "data": {
      "text/html": [
       "<div>\n",
       "<style scoped>\n",
       "    .dataframe tbody tr th:only-of-type {\n",
       "        vertical-align: middle;\n",
       "    }\n",
       "\n",
       "    .dataframe tbody tr th {\n",
       "        vertical-align: top;\n",
       "    }\n",
       "\n",
       "    .dataframe thead th {\n",
       "        text-align: right;\n",
       "    }\n",
       "</style>\n",
       "<table border=\"1\" class=\"dataframe\">\n",
       "  <thead>\n",
       "    <tr style=\"text-align: right;\">\n",
       "      <th></th>\n",
       "      <th>SNo</th>\n",
       "      <th>High</th>\n",
       "      <th>Low</th>\n",
       "      <th>Open</th>\n",
       "      <th>Close</th>\n",
       "      <th>Volume</th>\n",
       "      <th>Marketcap</th>\n",
       "    </tr>\n",
       "  </thead>\n",
       "  <tbody>\n",
       "    <tr>\n",
       "      <th>count</th>\n",
       "      <td>14632.000000</td>\n",
       "      <td>14632.000000</td>\n",
       "      <td>14632.000000</td>\n",
       "      <td>14632.000000</td>\n",
       "      <td>14632.000000</td>\n",
       "      <td>1.463200e+04</td>\n",
       "      <td>1.463200e+04</td>\n",
       "    </tr>\n",
       "    <tr>\n",
       "      <th>mean</th>\n",
       "      <td>1112.097936</td>\n",
       "      <td>1473.936220</td>\n",
       "      <td>1385.242782</td>\n",
       "      <td>1431.877953</td>\n",
       "      <td>1434.332398</td>\n",
       "      <td>6.787654e+09</td>\n",
       "      <td>3.552592e+10</td>\n",
       "    </tr>\n",
       "    <tr>\n",
       "      <th>std</th>\n",
       "      <td>768.958232</td>\n",
       "      <td>5943.653197</td>\n",
       "      <td>5558.036929</td>\n",
       "      <td>5765.649516</td>\n",
       "      <td>5771.759534</td>\n",
       "      <td>1.817132e+10</td>\n",
       "      <td>1.092216e+11</td>\n",
       "    </tr>\n",
       "    <tr>\n",
       "      <th>min</th>\n",
       "      <td>1.000000</td>\n",
       "      <td>0.003082</td>\n",
       "      <td>0.002802</td>\n",
       "      <td>0.002809</td>\n",
       "      <td>0.002810</td>\n",
       "      <td>0.000000e+00</td>\n",
       "      <td>0.000000e+00</td>\n",
       "    </tr>\n",
       "    <tr>\n",
       "      <th>25%</th>\n",
       "      <td>458.750000</td>\n",
       "      <td>0.470923</td>\n",
       "      <td>0.438239</td>\n",
       "      <td>0.454068</td>\n",
       "      <td>0.455102</td>\n",
       "      <td>1.911512e+07</td>\n",
       "      <td>7.254668e+08</td>\n",
       "    </tr>\n",
       "    <tr>\n",
       "      <th>50%</th>\n",
       "      <td>981.000000</td>\n",
       "      <td>1.024013</td>\n",
       "      <td>1.001554</td>\n",
       "      <td>1.010482</td>\n",
       "      <td>1.010586</td>\n",
       "      <td>2.717045e+08</td>\n",
       "      <td>4.101430e+09</td>\n",
       "    </tr>\n",
       "    <tr>\n",
       "      <th>75%</th>\n",
       "      <td>1676.250000</td>\n",
       "      <td>245.776497</td>\n",
       "      <td>235.253754</td>\n",
       "      <td>240.197436</td>\n",
       "      <td>240.326001</td>\n",
       "      <td>3.548535e+09</td>\n",
       "      <td>1.968992e+10</td>\n",
       "    </tr>\n",
       "    <tr>\n",
       "      <th>max</th>\n",
       "      <td>2991.000000</td>\n",
       "      <td>64863.098908</td>\n",
       "      <td>62208.964366</td>\n",
       "      <td>63523.754869</td>\n",
       "      <td>63503.457930</td>\n",
       "      <td>3.509679e+11</td>\n",
       "      <td>1.186364e+12</td>\n",
       "    </tr>\n",
       "  </tbody>\n",
       "</table>\n",
       "</div>"
      ],
      "text/plain": [
       "                SNo          High           Low          Open         Close  \\\n",
       "count  14632.000000  14632.000000  14632.000000  14632.000000  14632.000000   \n",
       "mean    1112.097936   1473.936220   1385.242782   1431.877953   1434.332398   \n",
       "std      768.958232   5943.653197   5558.036929   5765.649516   5771.759534   \n",
       "min        1.000000      0.003082      0.002802      0.002809      0.002810   \n",
       "25%      458.750000      0.470923      0.438239      0.454068      0.455102   \n",
       "50%      981.000000      1.024013      1.001554      1.010482      1.010586   \n",
       "75%     1676.250000    245.776497    235.253754    240.197436    240.326001   \n",
       "max     2991.000000  64863.098908  62208.964366  63523.754869  63503.457930   \n",
       "\n",
       "             Volume     Marketcap  \n",
       "count  1.463200e+04  1.463200e+04  \n",
       "mean   6.787654e+09  3.552592e+10  \n",
       "std    1.817132e+10  1.092216e+11  \n",
       "min    0.000000e+00  0.000000e+00  \n",
       "25%    1.911512e+07  7.254668e+08  \n",
       "50%    2.717045e+08  4.101430e+09  \n",
       "75%    3.548535e+09  1.968992e+10  \n",
       "max    3.509679e+11  1.186364e+12  "
      ]
     },
     "execution_count": 17,
     "metadata": {},
     "output_type": "execute_result"
    }
   ],
   "source": [
    "df_crypto.describe()"
   ]
  },
  {
   "cell_type": "markdown",
   "id": "cb5ede6d",
   "metadata": {},
   "source": [
    "## Data Preparation"
   ]
  },
  {
   "cell_type": "markdown",
   "id": "1ce243ac",
   "metadata": {},
   "source": [
    "### Creating a new data frame with the metric 'Close':"
   ]
  },
  {
   "cell_type": "code",
   "execution_count": 19,
   "id": "94dc3141",
   "metadata": {},
   "outputs": [],
   "source": [
    "#creating a new data frame with metric 'CLOSE':\n",
    "df= pd.DataFrame({'BTC': df_btc['Close'],'ETH': df_eth ['Close'], 'USDT' : df_usdt ['Close'],'BNB': df_bnb ['Close'], 'USDC': df_usdc ['Close'], 'SOL': df_sol ['Close'], 'XRP': df_xrp ['Close'], 'ADA': df_ada ['Close']})\n"
   ]
  },
  {
   "cell_type": "code",
   "execution_count": 20,
   "id": "8b2bcdf2",
   "metadata": {
    "scrolled": true
   },
   "outputs": [
    {
     "data": {
      "text/html": [
       "<div>\n",
       "<style scoped>\n",
       "    .dataframe tbody tr th:only-of-type {\n",
       "        vertical-align: middle;\n",
       "    }\n",
       "\n",
       "    .dataframe tbody tr th {\n",
       "        vertical-align: top;\n",
       "    }\n",
       "\n",
       "    .dataframe thead th {\n",
       "        text-align: right;\n",
       "    }\n",
       "</style>\n",
       "<table border=\"1\" class=\"dataframe\">\n",
       "  <thead>\n",
       "    <tr style=\"text-align: right;\">\n",
       "      <th></th>\n",
       "      <th>BTC</th>\n",
       "      <th>ETH</th>\n",
       "      <th>USDT</th>\n",
       "      <th>BNB</th>\n",
       "      <th>USDC</th>\n",
       "      <th>SOL</th>\n",
       "      <th>XRP</th>\n",
       "      <th>ADA</th>\n",
       "    </tr>\n",
       "  </thead>\n",
       "  <tbody>\n",
       "    <tr>\n",
       "      <th>count</th>\n",
       "      <td>2991.000000</td>\n",
       "      <td>2160.000000</td>\n",
       "      <td>2318.000000</td>\n",
       "      <td>1442.000000</td>\n",
       "      <td>1002.000000</td>\n",
       "      <td>452.000000</td>\n",
       "      <td>2893.000000</td>\n",
       "      <td>1374.000000</td>\n",
       "    </tr>\n",
       "    <tr>\n",
       "      <th>mean</th>\n",
       "      <td>6711.290443</td>\n",
       "      <td>383.910691</td>\n",
       "      <td>1.000696</td>\n",
       "      <td>52.250308</td>\n",
       "      <td>1.003791</td>\n",
       "      <td>10.471388</td>\n",
       "      <td>0.234790</td>\n",
       "      <td>0.256313</td>\n",
       "    </tr>\n",
       "    <tr>\n",
       "      <th>std</th>\n",
       "      <td>11298.141921</td>\n",
       "      <td>601.078766</td>\n",
       "      <td>0.014951</td>\n",
       "      <td>115.390917</td>\n",
       "      <td>0.006822</td>\n",
       "      <td>14.114444</td>\n",
       "      <td>0.338629</td>\n",
       "      <td>0.409691</td>\n",
       "    </tr>\n",
       "    <tr>\n",
       "      <th>min</th>\n",
       "      <td>68.431000</td>\n",
       "      <td>0.434829</td>\n",
       "      <td>0.606229</td>\n",
       "      <td>0.099867</td>\n",
       "      <td>0.970124</td>\n",
       "      <td>0.515273</td>\n",
       "      <td>0.002810</td>\n",
       "      <td>0.018539</td>\n",
       "    </tr>\n",
       "    <tr>\n",
       "      <th>25%</th>\n",
       "      <td>430.569489</td>\n",
       "      <td>13.819200</td>\n",
       "      <td>1.000000</td>\n",
       "      <td>10.068350</td>\n",
       "      <td>1.000017</td>\n",
       "      <td>1.424761</td>\n",
       "      <td>0.007346</td>\n",
       "      <td>0.045947</td>\n",
       "    </tr>\n",
       "    <tr>\n",
       "      <th>50%</th>\n",
       "      <td>2286.409912</td>\n",
       "      <td>198.643691</td>\n",
       "      <td>1.000020</td>\n",
       "      <td>16.210569</td>\n",
       "      <td>1.001152</td>\n",
       "      <td>2.881389</td>\n",
       "      <td>0.182608</td>\n",
       "      <td>0.087002</td>\n",
       "    </tr>\n",
       "    <tr>\n",
       "      <th>75%</th>\n",
       "      <td>8576.238715</td>\n",
       "      <td>386.435272</td>\n",
       "      <td>1.002228</td>\n",
       "      <td>27.691107</td>\n",
       "      <td>1.005395</td>\n",
       "      <td>14.362851</td>\n",
       "      <td>0.312465</td>\n",
       "      <td>0.183379</td>\n",
       "    </tr>\n",
       "    <tr>\n",
       "      <th>max</th>\n",
       "      <td>63503.457930</td>\n",
       "      <td>4168.701049</td>\n",
       "      <td>1.205740</td>\n",
       "      <td>675.684077</td>\n",
       "      <td>1.044029</td>\n",
       "      <td>55.910960</td>\n",
       "      <td>3.377810</td>\n",
       "      <td>2.309113</td>\n",
       "    </tr>\n",
       "  </tbody>\n",
       "</table>\n",
       "</div>"
      ],
      "text/plain": [
       "                BTC          ETH         USDT          BNB         USDC  \\\n",
       "count   2991.000000  2160.000000  2318.000000  1442.000000  1002.000000   \n",
       "mean    6711.290443   383.910691     1.000696    52.250308     1.003791   \n",
       "std    11298.141921   601.078766     0.014951   115.390917     0.006822   \n",
       "min       68.431000     0.434829     0.606229     0.099867     0.970124   \n",
       "25%      430.569489    13.819200     1.000000    10.068350     1.000017   \n",
       "50%     2286.409912   198.643691     1.000020    16.210569     1.001152   \n",
       "75%     8576.238715   386.435272     1.002228    27.691107     1.005395   \n",
       "max    63503.457930  4168.701049     1.205740   675.684077     1.044029   \n",
       "\n",
       "              SOL          XRP          ADA  \n",
       "count  452.000000  2893.000000  1374.000000  \n",
       "mean    10.471388     0.234790     0.256313  \n",
       "std     14.114444     0.338629     0.409691  \n",
       "min      0.515273     0.002810     0.018539  \n",
       "25%      1.424761     0.007346     0.045947  \n",
       "50%      2.881389     0.182608     0.087002  \n",
       "75%     14.362851     0.312465     0.183379  \n",
       "max     55.910960     3.377810     2.309113  "
      ]
     },
     "execution_count": 20,
     "metadata": {},
     "output_type": "execute_result"
    }
   ],
   "source": [
    "df.describe()"
   ]
  },
  {
   "cell_type": "code",
   "execution_count": 21,
   "id": "db4be5d1",
   "metadata": {},
   "outputs": [
    {
     "data": {
      "text/plain": [
       "(2991, 8)"
      ]
     },
     "execution_count": 21,
     "metadata": {},
     "output_type": "execute_result"
    }
   ],
   "source": [
    "DR = df.pct_change(1)\n",
    "DR.head()\n",
    "#need to drop the Null Vallues\n",
    "DR.shape"
   ]
  },
  {
   "cell_type": "markdown",
   "id": "1b254479",
   "metadata": {},
   "source": [
    "### Missing Values"
   ]
  },
  {
   "cell_type": "code",
   "execution_count": 22,
   "id": "2b5d8117",
   "metadata": {},
   "outputs": [
    {
     "name": "stdout",
     "output_type": "stream",
     "text": [
      "BTC        0\n",
      "ETH      831\n",
      "USDT     673\n",
      "BNB     1549\n",
      "USDC    1989\n",
      "SOL     2539\n",
      "XRP       98\n",
      "ADA     1617\n",
      "dtype: int64\n"
     ]
    }
   ],
   "source": [
    "#Cheking null values\n",
    "missing = df.isna().sum()\n",
    "print(missing)"
   ]
  },
  {
   "cell_type": "code",
   "execution_count": 23,
   "id": "bde08332",
   "metadata": {},
   "outputs": [
    {
     "name": "stdout",
     "output_type": "stream",
     "text": [
      "              0\n",
      "SOL   84.887997\n",
      "USDC  66.499498\n",
      "ADA   54.062187\n",
      "BNB   51.788699\n",
      "ETH   27.783350\n",
      "USDT  22.500836\n",
      "XRP    3.276496\n",
      "BTC    0.000000\n"
     ]
    }
   ],
   "source": [
    "print(df.isnull().sum().div(df.shape[0]).mul(100).to_frame().sort_values(by=0, ascending = False))"
   ]
  },
  {
   "cell_type": "code",
   "execution_count": 24,
   "id": "540ed8dc",
   "metadata": {},
   "outputs": [
    {
     "data": {
      "text/plain": [
       "9296"
      ]
     },
     "execution_count": 24,
     "metadata": {},
     "output_type": "execute_result"
    }
   ],
   "source": [
    "sum(df.isnull().values.ravel())\n",
    "df.isna().sum().sum()"
   ]
  },
  {
   "cell_type": "markdown",
   "id": "b60a46f5",
   "metadata": {},
   "source": [
    "### Dealing with missing values"
   ]
  },
  {
   "cell_type": "markdown",
   "id": "f63572e0",
   "metadata": {},
   "source": [
    "\"When the number of cases with missing data is small (typically but arbitrarily defined as less than 5% in larger samples, though there is no accepted consensus on the cutoff what a “larger sample” is), it is common simply to drop these cases from analysis, which, as noted above, most statistical programs do by default in the process of listwise deletion.\" (Garson, 2015, p.10).\n",
    "\n",
    "That said, as the total of columns with missing values more than 50% represents less than 5% of the entire dataset I decided to drop them."
   ]
  },
  {
   "cell_type": "code",
   "execution_count": 25,
   "id": "40864c3f",
   "metadata": {},
   "outputs": [
    {
     "data": {
      "text/plain": [
       "9296"
      ]
     },
     "execution_count": 25,
     "metadata": {},
     "output_type": "execute_result"
    }
   ],
   "source": [
    "sum(df.isnull().values.ravel())\n",
    "df.isna().sum().sum()"
   ]
  },
  {
   "cell_type": "markdown",
   "id": "4bb2a801",
   "metadata": {},
   "source": [
    "There are 9296 missing values in the intere data set"
   ]
  },
  {
   "cell_type": "code",
   "execution_count": 26,
   "id": "68518cb0",
   "metadata": {},
   "outputs": [
    {
     "data": {
      "text/plain": [
       "BTC      3.018634\n",
       "ETH      2.948667\n",
       "USDT   -15.263710\n",
       "BNB      3.359945\n",
       "USDC     1.498858\n",
       "SOL      1.386821\n",
       "XRP      3.158788\n",
       "ADA      2.378311\n",
       "dtype: float64"
      ]
     },
     "execution_count": 26,
     "metadata": {},
     "output_type": "execute_result"
    }
   ],
   "source": [
    "df.skew()"
   ]
  },
  {
   "cell_type": "markdown",
   "id": "43847367",
   "metadata": {},
   "source": [
    "The data is skwed, so I will use the mode imputation technique. "
   ]
  },
  {
   "cell_type": "markdown",
   "id": "e190a7fc",
   "metadata": {},
   "source": [
    "### Imputing missing values with mode"
   ]
  },
  {
   "cell_type": "code",
   "execution_count": 27,
   "id": "f675075b",
   "metadata": {},
   "outputs": [],
   "source": [
    "#imputation of missing values with mode\n",
    "df= df.fillna(df.mode())"
   ]
  },
  {
   "cell_type": "code",
   "execution_count": 28,
   "id": "4865ba86",
   "metadata": {},
   "outputs": [
    {
     "data": {
      "text/plain": [
       "BTC        0\n",
       "ETH      831\n",
       "USDT     673\n",
       "BNB     1549\n",
       "USDC    1989\n",
       "SOL     2539\n",
       "XRP       98\n",
       "ADA     1617\n",
       "dtype: int64"
      ]
     },
     "execution_count": 28,
     "metadata": {},
     "output_type": "execute_result"
    }
   ],
   "source": [
    "#Cheking null values\n",
    "df.isna().sum()"
   ]
  },
  {
   "cell_type": "code",
   "execution_count": null,
   "id": "27aefe0a",
   "metadata": {},
   "outputs": [],
   "source": []
  },
  {
   "cell_type": "markdown",
   "id": "90124edf",
   "metadata": {},
   "source": [
    "### Statistic Info"
   ]
  },
  {
   "cell_type": "code",
   "execution_count": 29,
   "id": "76f8d5f1",
   "metadata": {},
   "outputs": [
    {
     "data": {
      "text/html": [
       "<div>\n",
       "<style scoped>\n",
       "    .dataframe tbody tr th:only-of-type {\n",
       "        vertical-align: middle;\n",
       "    }\n",
       "\n",
       "    .dataframe tbody tr th {\n",
       "        vertical-align: top;\n",
       "    }\n",
       "\n",
       "    .dataframe thead th {\n",
       "        text-align: right;\n",
       "    }\n",
       "</style>\n",
       "<table border=\"1\" class=\"dataframe\">\n",
       "  <thead>\n",
       "    <tr style=\"text-align: right;\">\n",
       "      <th></th>\n",
       "      <th>BTC</th>\n",
       "      <th>ETH</th>\n",
       "      <th>USDT</th>\n",
       "      <th>BNB</th>\n",
       "      <th>USDC</th>\n",
       "      <th>SOL</th>\n",
       "      <th>XRP</th>\n",
       "      <th>ADA</th>\n",
       "    </tr>\n",
       "  </thead>\n",
       "  <tbody>\n",
       "    <tr>\n",
       "      <th>count</th>\n",
       "      <td>2991.000000</td>\n",
       "      <td>2160.000000</td>\n",
       "      <td>2318.000000</td>\n",
       "      <td>1442.000000</td>\n",
       "      <td>1002.000000</td>\n",
       "      <td>452.000000</td>\n",
       "      <td>2893.000000</td>\n",
       "      <td>1374.000000</td>\n",
       "    </tr>\n",
       "    <tr>\n",
       "      <th>mean</th>\n",
       "      <td>6711.290443</td>\n",
       "      <td>383.910691</td>\n",
       "      <td>1.000696</td>\n",
       "      <td>52.250308</td>\n",
       "      <td>1.003791</td>\n",
       "      <td>10.471388</td>\n",
       "      <td>0.234790</td>\n",
       "      <td>0.256313</td>\n",
       "    </tr>\n",
       "    <tr>\n",
       "      <th>std</th>\n",
       "      <td>11298.141921</td>\n",
       "      <td>601.078766</td>\n",
       "      <td>0.014951</td>\n",
       "      <td>115.390917</td>\n",
       "      <td>0.006822</td>\n",
       "      <td>14.114444</td>\n",
       "      <td>0.338629</td>\n",
       "      <td>0.409691</td>\n",
       "    </tr>\n",
       "    <tr>\n",
       "      <th>min</th>\n",
       "      <td>68.431000</td>\n",
       "      <td>0.434829</td>\n",
       "      <td>0.606229</td>\n",
       "      <td>0.099867</td>\n",
       "      <td>0.970124</td>\n",
       "      <td>0.515273</td>\n",
       "      <td>0.002810</td>\n",
       "      <td>0.018539</td>\n",
       "    </tr>\n",
       "    <tr>\n",
       "      <th>25%</th>\n",
       "      <td>430.569489</td>\n",
       "      <td>13.819200</td>\n",
       "      <td>1.000000</td>\n",
       "      <td>10.068350</td>\n",
       "      <td>1.000017</td>\n",
       "      <td>1.424761</td>\n",
       "      <td>0.007346</td>\n",
       "      <td>0.045947</td>\n",
       "    </tr>\n",
       "    <tr>\n",
       "      <th>50%</th>\n",
       "      <td>2286.409912</td>\n",
       "      <td>198.643691</td>\n",
       "      <td>1.000020</td>\n",
       "      <td>16.210569</td>\n",
       "      <td>1.001152</td>\n",
       "      <td>2.881389</td>\n",
       "      <td>0.182608</td>\n",
       "      <td>0.087002</td>\n",
       "    </tr>\n",
       "    <tr>\n",
       "      <th>75%</th>\n",
       "      <td>8576.238715</td>\n",
       "      <td>386.435272</td>\n",
       "      <td>1.002228</td>\n",
       "      <td>27.691107</td>\n",
       "      <td>1.005395</td>\n",
       "      <td>14.362851</td>\n",
       "      <td>0.312465</td>\n",
       "      <td>0.183379</td>\n",
       "    </tr>\n",
       "    <tr>\n",
       "      <th>max</th>\n",
       "      <td>63503.457930</td>\n",
       "      <td>4168.701049</td>\n",
       "      <td>1.205740</td>\n",
       "      <td>675.684077</td>\n",
       "      <td>1.044029</td>\n",
       "      <td>55.910960</td>\n",
       "      <td>3.377810</td>\n",
       "      <td>2.309113</td>\n",
       "    </tr>\n",
       "  </tbody>\n",
       "</table>\n",
       "</div>"
      ],
      "text/plain": [
       "                BTC          ETH         USDT          BNB         USDC  \\\n",
       "count   2991.000000  2160.000000  2318.000000  1442.000000  1002.000000   \n",
       "mean    6711.290443   383.910691     1.000696    52.250308     1.003791   \n",
       "std    11298.141921   601.078766     0.014951   115.390917     0.006822   \n",
       "min       68.431000     0.434829     0.606229     0.099867     0.970124   \n",
       "25%      430.569489    13.819200     1.000000    10.068350     1.000017   \n",
       "50%     2286.409912   198.643691     1.000020    16.210569     1.001152   \n",
       "75%     8576.238715   386.435272     1.002228    27.691107     1.005395   \n",
       "max    63503.457930  4168.701049     1.205740   675.684077     1.044029   \n",
       "\n",
       "              SOL          XRP          ADA  \n",
       "count  452.000000  2893.000000  1374.000000  \n",
       "mean    10.471388     0.234790     0.256313  \n",
       "std     14.114444     0.338629     0.409691  \n",
       "min      0.515273     0.002810     0.018539  \n",
       "25%      1.424761     0.007346     0.045947  \n",
       "50%      2.881389     0.182608     0.087002  \n",
       "75%     14.362851     0.312465     0.183379  \n",
       "max     55.910960     3.377810     2.309113  "
      ]
     },
     "execution_count": 29,
     "metadata": {},
     "output_type": "execute_result"
    }
   ],
   "source": [
    "df.describe()"
   ]
  },
  {
   "cell_type": "markdown",
   "id": "81b0eb72",
   "metadata": {},
   "source": [
    "### Imputing missing values with median"
   ]
  },
  {
   "cell_type": "markdown",
   "id": "f7399617",
   "metadata": {},
   "source": [
    "After checking imputation with median we realize that...."
   ]
  },
  {
   "cell_type": "markdown",
   "id": "0ad00abd",
   "metadata": {},
   "source": [
    "### Daily Return"
   ]
  },
  {
   "cell_type": "markdown",
   "id": "40c4ee91",
   "metadata": {},
   "source": [
    "Pandas pct_change() method is applied on series with numeric data to calculate Percentage change after n number of elements. By default, it calculates percentage change of current element from the previous element. (Current-Previous/Previous) * 100. \n",
    "\n",
    "source: https://www.geeksforgeeks.org/python-pandas-series-pct_change/#:~:text=Pandas%20pct_change()%20method%20is,Previous%2FPrevious)%20*%20100."
   ]
  },
  {
   "cell_type": "code",
   "execution_count": 30,
   "id": "e6b9aa0d",
   "metadata": {},
   "outputs": [],
   "source": [
    "DR = df.pct_change(1)"
   ]
  },
  {
   "cell_type": "code",
   "execution_count": 31,
   "id": "de4c3d63",
   "metadata": {},
   "outputs": [
    {
     "data": {
      "text/plain": [
       "XRP     0.004332\n",
       "ETH     0.004094\n",
       "BNB     0.004093\n",
       "BTC     0.002741\n",
       "ADA     0.002698\n",
       "SOL     0.001930\n",
       "USDT    0.000061\n",
       "USDC    0.000001\n",
       "dtype: float64"
      ]
     },
     "execution_count": 31,
     "metadata": {},
     "output_type": "execute_result"
    }
   ],
   "source": [
    "#the average daily return \n",
    "DR.mean().sort_values(ascending=False)"
   ]
  },
  {
   "cell_type": "markdown",
   "id": "9ed36922",
   "metadata": {},
   "source": [
    "### EDA"
   ]
  },
  {
   "cell_type": "code",
   "execution_count": 32,
   "id": "e616ec4e",
   "metadata": {},
   "outputs": [
    {
     "data": {
      "image/png": "[encoded data removed]",
      "text/plain": [
       "<Figure size 936x504 with 2 Axes>"
      ]
     },
     "metadata": {
      "needs_background": "light"
     },
     "output_type": "display_data"
    }
   ],
   "source": [
    "corr = df.corr()\n",
    "plt.figure(figsize=(13,7))\n",
    "\n",
    "mask = np.zeros_like(corr)\n",
    "mask[np.triu_indices_from(mask, 1)] = True\n",
    "heat_map = sns.heatmap(corr, mask=mask, annot=True, vmax=1, vmin=-1, fmt='.2f', cmap= 'BrBG')\n",
    "\n",
    "rotx = heat_map.set_xticklabels(heat_map.get_xticklabels())\n",
    "roty = heat_map.set_yticklabels(heat_map.get_yticklabels())"
   ]
  },
  {
   "cell_type": "code",
   "execution_count": 33,
   "id": "e0b6afd7",
   "metadata": {},
   "outputs": [
    {
     "data": {
      "image/png": "[encoded data removed]",
      "text/plain": [
       "<Figure size 864x288 with 1 Axes>"
      ]
     },
     "metadata": {
      "needs_background": "light"
     },
     "output_type": "display_data"
    }
   ],
   "source": [
    "#Daily returns ( variance, std)\n",
    "plt.figure(figsize= (12,4))\n",
    "for c in DR.columns.values:\n",
    "    plt.plot(DR.index, DR[c], lw = 2, alpha = .7)\n",
    "\n",
    "plt.title('Daily Returns')\n",
    "plt.ylabel('Percentage in decimal form')\n",
    "plt.xlabel('Days')\n",
    "plt.legend(DR.columns.values, loc = 'upper right')\n",
    "plt.show()"
   ]
  },
  {
   "cell_type": "markdown",
   "id": "39b2516a",
   "metadata": {},
   "source": [
    "### Volatility"
   ]
  },
  {
   "cell_type": "code",
   "execution_count": 34,
   "id": "c2dcee48",
   "metadata": {},
   "outputs": [
    {
     "name": "stdout",
     "output_type": "stream",
     "text": [
      "The cryptocurrency volatility\n"
     ]
    },
    {
     "data": {
      "text/plain": [
       "XRP     0.080222\n",
       "ADA     0.056714\n",
       "BNB     0.055724\n",
       "ETH     0.053621\n",
       "BTC     0.042639\n",
       "SOL     0.036955\n",
       "USDT    0.015612\n",
       "USDC    0.002656\n",
       "dtype: float64"
      ]
     },
     "execution_count": 34,
     "metadata": {},
     "output_type": "execute_result"
    }
   ],
   "source": [
    "#get the volatility through the std ( square root of the variance)\n",
    "print('The cryptocurrency volatility')\n",
    "DR.std().sort_values(ascending=False)"
   ]
  },
  {
   "cell_type": "code",
   "execution_count": 35,
   "id": "07d2f0ac",
   "metadata": {},
   "outputs": [
    {
     "name": "stdout",
     "output_type": "stream",
     "text": [
      "The average of the daily returns\n"
     ]
    },
    {
     "data": {
      "text/plain": [
       "XRP     0.004332\n",
       "ETH     0.004094\n",
       "BNB     0.004093\n",
       "BTC     0.002741\n",
       "ADA     0.002698\n",
       "SOL     0.001930\n",
       "USDT    0.000061\n",
       "USDC    0.000001\n",
       "dtype: float64"
      ]
     },
     "execution_count": 35,
     "metadata": {},
     "output_type": "execute_result"
    }
   ],
   "source": [
    "#the average of the daily returns: \n",
    "print(\"The average of the daily returns\")\n",
    "DR.mean().sort_values(ascending=False)"
   ]
  },
  {
   "cell_type": "code",
   "execution_count": 36,
   "id": "8b3a3996",
   "metadata": {},
   "outputs": [],
   "source": [
    "#Daily Cumulative Return\n",
    "DCR = (DR+1).cumprod()"
   ]
  },
  {
   "cell_type": "code",
   "execution_count": 37,
   "id": "dfaaa21a",
   "metadata": {},
   "outputs": [
    {
     "data": {
      "image/png": "[encoded data removed]",
      "text/plain": [
       "<Figure size 900x324 with 1 Axes>"
      ]
     },
     "metadata": {
      "needs_background": "light"
     },
     "output_type": "display_data"
    }
   ],
   "source": [
    "#Daily returns ( variance, std)\n",
    "plt.figure(figsize= (12.5,4.5))\n",
    "for c in DCR.columns.values:\n",
    "    plt.plot(DCR.index, DCR[c], lw = 2, label = c)\n",
    "\n",
    "plt.title('Daily Cumulative Returns')\n",
    "plt.ylabel('Growth of 1$ investiment')\n",
    "plt.xlabel('Days')\n",
    "plt.legend(DCR.columns.values, loc = 'upper left')\n",
    "plt.show()"
   ]
  },
  {
   "cell_type": "code",
   "execution_count": 38,
   "id": "77f20b8f",
   "metadata": {
    "scrolled": true
   },
   "outputs": [
    {
     "data": {
      "text/html": [
       "<div>\n",
       "<style scoped>\n",
       "    .dataframe tbody tr th:only-of-type {\n",
       "        vertical-align: middle;\n",
       "    }\n",
       "\n",
       "    .dataframe tbody tr th {\n",
       "        vertical-align: top;\n",
       "    }\n",
       "\n",
       "    .dataframe thead th {\n",
       "        text-align: right;\n",
       "    }\n",
       "</style>\n",
       "<table border=\"1\" class=\"dataframe\">\n",
       "  <thead>\n",
       "    <tr style=\"text-align: right;\">\n",
       "      <th></th>\n",
       "      <th>BTC</th>\n",
       "      <th>ETH</th>\n",
       "      <th>USDT</th>\n",
       "      <th>BNB</th>\n",
       "      <th>USDC</th>\n",
       "      <th>SOL</th>\n",
       "      <th>XRP</th>\n",
       "      <th>ADA</th>\n",
       "    </tr>\n",
       "  </thead>\n",
       "  <tbody>\n",
       "    <tr>\n",
       "      <th>BTC</th>\n",
       "      <td>1.000000</td>\n",
       "      <td>-0.005488</td>\n",
       "      <td>-0.024048</td>\n",
       "      <td>0.009882</td>\n",
       "      <td>0.002423</td>\n",
       "      <td>0.031423</td>\n",
       "      <td>-0.017379</td>\n",
       "      <td>0.029515</td>\n",
       "    </tr>\n",
       "    <tr>\n",
       "      <th>ETH</th>\n",
       "      <td>-0.005488</td>\n",
       "      <td>1.000000</td>\n",
       "      <td>0.141517</td>\n",
       "      <td>0.004398</td>\n",
       "      <td>0.003060</td>\n",
       "      <td>-0.046709</td>\n",
       "      <td>0.027516</td>\n",
       "      <td>0.034608</td>\n",
       "    </tr>\n",
       "    <tr>\n",
       "      <th>USDT</th>\n",
       "      <td>-0.024048</td>\n",
       "      <td>0.141517</td>\n",
       "      <td>1.000000</td>\n",
       "      <td>-0.000452</td>\n",
       "      <td>0.001213</td>\n",
       "      <td>-0.095663</td>\n",
       "      <td>0.019262</td>\n",
       "      <td>0.029059</td>\n",
       "    </tr>\n",
       "    <tr>\n",
       "      <th>BNB</th>\n",
       "      <td>0.009882</td>\n",
       "      <td>0.004398</td>\n",
       "      <td>-0.000452</td>\n",
       "      <td>1.000000</td>\n",
       "      <td>-0.003913</td>\n",
       "      <td>0.014242</td>\n",
       "      <td>0.000283</td>\n",
       "      <td>0.010918</td>\n",
       "    </tr>\n",
       "    <tr>\n",
       "      <th>USDC</th>\n",
       "      <td>0.002423</td>\n",
       "      <td>0.003060</td>\n",
       "      <td>0.001213</td>\n",
       "      <td>-0.003913</td>\n",
       "      <td>1.000000</td>\n",
       "      <td>0.003936</td>\n",
       "      <td>0.017129</td>\n",
       "      <td>0.007269</td>\n",
       "    </tr>\n",
       "    <tr>\n",
       "      <th>SOL</th>\n",
       "      <td>0.031423</td>\n",
       "      <td>-0.046709</td>\n",
       "      <td>-0.095663</td>\n",
       "      <td>0.014242</td>\n",
       "      <td>0.003936</td>\n",
       "      <td>1.000000</td>\n",
       "      <td>-0.018164</td>\n",
       "      <td>-0.006641</td>\n",
       "    </tr>\n",
       "    <tr>\n",
       "      <th>XRP</th>\n",
       "      <td>-0.017379</td>\n",
       "      <td>0.027516</td>\n",
       "      <td>0.019262</td>\n",
       "      <td>0.000283</td>\n",
       "      <td>0.017129</td>\n",
       "      <td>-0.018164</td>\n",
       "      <td>1.000000</td>\n",
       "      <td>0.003707</td>\n",
       "    </tr>\n",
       "    <tr>\n",
       "      <th>ADA</th>\n",
       "      <td>0.029515</td>\n",
       "      <td>0.034608</td>\n",
       "      <td>0.029059</td>\n",
       "      <td>0.010918</td>\n",
       "      <td>0.007269</td>\n",
       "      <td>-0.006641</td>\n",
       "      <td>0.003707</td>\n",
       "      <td>1.000000</td>\n",
       "    </tr>\n",
       "  </tbody>\n",
       "</table>\n",
       "</div>"
      ],
      "text/plain": [
       "           BTC       ETH      USDT       BNB      USDC       SOL       XRP  \\\n",
       "BTC   1.000000 -0.005488 -0.024048  0.009882  0.002423  0.031423 -0.017379   \n",
       "ETH  -0.005488  1.000000  0.141517  0.004398  0.003060 -0.046709  0.027516   \n",
       "USDT -0.024048  0.141517  1.000000 -0.000452  0.001213 -0.095663  0.019262   \n",
       "BNB   0.009882  0.004398 -0.000452  1.000000 -0.003913  0.014242  0.000283   \n",
       "USDC  0.002423  0.003060  0.001213 -0.003913  1.000000  0.003936  0.017129   \n",
       "SOL   0.031423 -0.046709 -0.095663  0.014242  0.003936  1.000000 -0.018164   \n",
       "XRP  -0.017379  0.027516  0.019262  0.000283  0.017129 -0.018164  1.000000   \n",
       "ADA   0.029515  0.034608  0.029059  0.010918  0.007269 -0.006641  0.003707   \n",
       "\n",
       "           ADA  \n",
       "BTC   0.029515  \n",
       "ETH   0.034608  \n",
       "USDT  0.029059  \n",
       "BNB   0.010918  \n",
       "USDC  0.007269  \n",
       "SOL  -0.006641  \n",
       "XRP   0.003707  \n",
       "ADA   1.000000  "
      ]
     },
     "execution_count": 38,
     "metadata": {},
     "output_type": "execute_result"
    }
   ],
   "source": [
    "DR.corr()"
   ]
  },
  {
   "cell_type": "code",
   "execution_count": 39,
   "id": "5163bbde",
   "metadata": {},
   "outputs": [
    {
     "data": {
      "text/plain": [
       "0"
      ]
     },
     "execution_count": 39,
     "metadata": {},
     "output_type": "execute_result"
    }
   ],
   "source": [
    "df_crypto.isna().any(axis=1).sum()"
   ]
  },
  {
   "cell_type": "code",
   "execution_count": 40,
   "id": "fa86a550",
   "metadata": {},
   "outputs": [
    {
     "data": {
      "text/plain": [
       "SNo          0\n",
       "Name         0\n",
       "Symbol       0\n",
       "Date         0\n",
       "High         0\n",
       "Low          0\n",
       "Open         0\n",
       "Close        0\n",
       "Volume       0\n",
       "Marketcap    0\n",
       "dtype: int64"
      ]
     },
     "execution_count": 40,
     "metadata": {},
     "output_type": "execute_result"
    }
   ],
   "source": [
    "df_crypto.isnull().sum()"
   ]
  },
  {
   "cell_type": "code",
   "execution_count": 41,
   "id": "2a7eafba",
   "metadata": {},
   "outputs": [
    {
     "data": {
      "text/plain": [
       "<AxesSubplot:>"
      ]
     },
     "execution_count": 41,
     "metadata": {},
     "output_type": "execute_result"
    },
    {
     "data": {
      "image/png": "[encoded data removed]",
      "text/plain": [
       "<Figure size 432x288 with 1 Axes>"
      ]
     },
     "metadata": {
      "needs_background": "light"
     },
     "output_type": "display_data"
    }
   ],
   "source": [
    "df_btc.boxplot()"
   ]
  },
  {
   "cell_type": "code",
   "execution_count": 42,
   "id": "4fa9c4fb",
   "metadata": {},
   "outputs": [
    {
     "name": "stdout",
     "output_type": "stream",
     "text": [
      "SNo          1.217500e+03\n",
      "High         2.453056e+02\n",
      "Low          2.348155e+02\n",
      "Open         2.397434e+02\n",
      "Close        2.398709e+02\n",
      "Volume       3.529420e+09\n",
      "Marketcap    1.896445e+10\n",
      "dtype: float64\n"
     ]
    }
   ],
   "source": [
    "Q1 = df_crypto.quantile(0.25)\n",
    "Q3 = df_crypto.quantile(0.75)\n",
    "IQR = Q3 - Q1\n",
    "print(IQR)"
   ]
  },
  {
   "cell_type": "code",
   "execution_count": 43,
   "id": "6b84234e",
   "metadata": {},
   "outputs": [
    {
     "data": {
      "text/plain": [
       "(14632, 10)"
      ]
     },
     "execution_count": 43,
     "metadata": {},
     "output_type": "execute_result"
    }
   ],
   "source": [
    "df_crypto.shape"
   ]
  },
  {
   "cell_type": "code",
   "execution_count": 44,
   "id": "e41ab72f",
   "metadata": {},
   "outputs": [
    {
     "data": {
      "text/plain": [
       "(10762, 10)"
      ]
     },
     "execution_count": 44,
     "metadata": {},
     "output_type": "execute_result"
    }
   ],
   "source": [
    "df_out = df_crypto[~((df_crypto < (Q1-1.5 * IQR)) |(df_crypto > (Q3 + 1.5 * IQR))).any(axis=1)]\n",
    "df_out.shape"
   ]
  },
  {
   "cell_type": "code",
   "execution_count": 45,
   "id": "fcfdd820",
   "metadata": {},
   "outputs": [],
   "source": [
    "df_crypto['Date'] = pd.to_datetime(df_crypto['Date'])"
   ]
  },
  {
   "cell_type": "code",
   "execution_count": 46,
   "id": "7aed4bac",
   "metadata": {},
   "outputs": [
    {
     "data": {
      "text/html": [
       "<div>\n",
       "<style scoped>\n",
       "    .dataframe tbody tr th:only-of-type {\n",
       "        vertical-align: middle;\n",
       "    }\n",
       "\n",
       "    .dataframe tbody tr th {\n",
       "        vertical-align: top;\n",
       "    }\n",
       "\n",
       "    .dataframe thead th {\n",
       "        text-align: right;\n",
       "    }\n",
       "</style>\n",
       "<table border=\"1\" class=\"dataframe\">\n",
       "  <thead>\n",
       "    <tr style=\"text-align: right;\">\n",
       "      <th></th>\n",
       "      <th>SNo</th>\n",
       "      <th>Name</th>\n",
       "      <th>Symbol</th>\n",
       "      <th>Date</th>\n",
       "      <th>High</th>\n",
       "      <th>Low</th>\n",
       "      <th>Open</th>\n",
       "      <th>Close</th>\n",
       "      <th>Volume</th>\n",
       "      <th>Marketcap</th>\n",
       "    </tr>\n",
       "  </thead>\n",
       "  <tbody>\n",
       "    <tr>\n",
       "      <th>0</th>\n",
       "      <td>1</td>\n",
       "      <td>Bitcoin</td>\n",
       "      <td>BTC</td>\n",
       "      <td>2013-04-29 23:59:59</td>\n",
       "      <td>147.488007</td>\n",
       "      <td>134.000000</td>\n",
       "      <td>134.444000</td>\n",
       "      <td>144.539993</td>\n",
       "      <td>0.0</td>\n",
       "      <td>1.603769e+09</td>\n",
       "    </tr>\n",
       "    <tr>\n",
       "      <th>1</th>\n",
       "      <td>2</td>\n",
       "      <td>Bitcoin</td>\n",
       "      <td>BTC</td>\n",
       "      <td>2013-04-30 23:59:59</td>\n",
       "      <td>146.929993</td>\n",
       "      <td>134.050003</td>\n",
       "      <td>144.000000</td>\n",
       "      <td>139.000000</td>\n",
       "      <td>0.0</td>\n",
       "      <td>1.542813e+09</td>\n",
       "    </tr>\n",
       "    <tr>\n",
       "      <th>2</th>\n",
       "      <td>3</td>\n",
       "      <td>Bitcoin</td>\n",
       "      <td>BTC</td>\n",
       "      <td>2013-05-01 23:59:59</td>\n",
       "      <td>139.889999</td>\n",
       "      <td>107.720001</td>\n",
       "      <td>139.000000</td>\n",
       "      <td>116.989998</td>\n",
       "      <td>0.0</td>\n",
       "      <td>1.298955e+09</td>\n",
       "    </tr>\n",
       "    <tr>\n",
       "      <th>3</th>\n",
       "      <td>4</td>\n",
       "      <td>Bitcoin</td>\n",
       "      <td>BTC</td>\n",
       "      <td>2013-05-02 23:59:59</td>\n",
       "      <td>125.599998</td>\n",
       "      <td>92.281898</td>\n",
       "      <td>116.379997</td>\n",
       "      <td>105.209999</td>\n",
       "      <td>0.0</td>\n",
       "      <td>1.168517e+09</td>\n",
       "    </tr>\n",
       "    <tr>\n",
       "      <th>4</th>\n",
       "      <td>5</td>\n",
       "      <td>Bitcoin</td>\n",
       "      <td>BTC</td>\n",
       "      <td>2013-05-03 23:59:59</td>\n",
       "      <td>108.127998</td>\n",
       "      <td>79.099998</td>\n",
       "      <td>106.250000</td>\n",
       "      <td>97.750000</td>\n",
       "      <td>0.0</td>\n",
       "      <td>1.085995e+09</td>\n",
       "    </tr>\n",
       "  </tbody>\n",
       "</table>\n",
       "</div>"
      ],
      "text/plain": [
       "   SNo     Name Symbol                 Date        High         Low  \\\n",
       "0    1  Bitcoin    BTC  2013-04-29 23:59:59  147.488007  134.000000   \n",
       "1    2  Bitcoin    BTC  2013-04-30 23:59:59  146.929993  134.050003   \n",
       "2    3  Bitcoin    BTC  2013-05-01 23:59:59  139.889999  107.720001   \n",
       "3    4  Bitcoin    BTC  2013-05-02 23:59:59  125.599998   92.281898   \n",
       "4    5  Bitcoin    BTC  2013-05-03 23:59:59  108.127998   79.099998   \n",
       "\n",
       "         Open       Close  Volume     Marketcap  \n",
       "0  134.444000  144.539993     0.0  1.603769e+09  \n",
       "1  144.000000  139.000000     0.0  1.542813e+09  \n",
       "2  139.000000  116.989998     0.0  1.298955e+09  \n",
       "3  116.379997  105.209999     0.0  1.168517e+09  \n",
       "4  106.250000   97.750000     0.0  1.085995e+09  "
      ]
     },
     "execution_count": 46,
     "metadata": {},
     "output_type": "execute_result"
    }
   ],
   "source": [
    "df_btc.head()"
   ]
  },
  {
   "cell_type": "code",
   "execution_count": 47,
   "id": "f4c2d96d",
   "metadata": {},
   "outputs": [
    {
     "data": {
      "text/html": [
       "<div>\n",
       "<style scoped>\n",
       "    .dataframe tbody tr th:only-of-type {\n",
       "        vertical-align: middle;\n",
       "    }\n",
       "\n",
       "    .dataframe tbody tr th {\n",
       "        vertical-align: top;\n",
       "    }\n",
       "\n",
       "    .dataframe thead th {\n",
       "        text-align: right;\n",
       "    }\n",
       "</style>\n",
       "<table border=\"1\" class=\"dataframe\">\n",
       "  <thead>\n",
       "    <tr style=\"text-align: right;\">\n",
       "      <th></th>\n",
       "      <th>SNo</th>\n",
       "      <th>High</th>\n",
       "      <th>Low</th>\n",
       "      <th>Open</th>\n",
       "      <th>Close</th>\n",
       "      <th>Volume</th>\n",
       "      <th>Marketcap</th>\n",
       "    </tr>\n",
       "  </thead>\n",
       "  <tbody>\n",
       "    <tr>\n",
       "      <th>count</th>\n",
       "      <td>14632.000000</td>\n",
       "      <td>14632.000000</td>\n",
       "      <td>14632.000000</td>\n",
       "      <td>14632.000000</td>\n",
       "      <td>14632.000000</td>\n",
       "      <td>1.463200e+04</td>\n",
       "      <td>1.463200e+04</td>\n",
       "    </tr>\n",
       "    <tr>\n",
       "      <th>mean</th>\n",
       "      <td>1112.097936</td>\n",
       "      <td>1473.936220</td>\n",
       "      <td>1385.242782</td>\n",
       "      <td>1431.877953</td>\n",
       "      <td>1434.332398</td>\n",
       "      <td>6.787654e+09</td>\n",
       "      <td>3.552592e+10</td>\n",
       "    </tr>\n",
       "    <tr>\n",
       "      <th>std</th>\n",
       "      <td>768.958232</td>\n",
       "      <td>5943.653197</td>\n",
       "      <td>5558.036929</td>\n",
       "      <td>5765.649516</td>\n",
       "      <td>5771.759534</td>\n",
       "      <td>1.817132e+10</td>\n",
       "      <td>1.092216e+11</td>\n",
       "    </tr>\n",
       "    <tr>\n",
       "      <th>min</th>\n",
       "      <td>1.000000</td>\n",
       "      <td>0.003082</td>\n",
       "      <td>0.002802</td>\n",
       "      <td>0.002809</td>\n",
       "      <td>0.002810</td>\n",
       "      <td>0.000000e+00</td>\n",
       "      <td>0.000000e+00</td>\n",
       "    </tr>\n",
       "    <tr>\n",
       "      <th>25%</th>\n",
       "      <td>458.750000</td>\n",
       "      <td>0.470923</td>\n",
       "      <td>0.438239</td>\n",
       "      <td>0.454068</td>\n",
       "      <td>0.455102</td>\n",
       "      <td>1.911512e+07</td>\n",
       "      <td>7.254668e+08</td>\n",
       "    </tr>\n",
       "    <tr>\n",
       "      <th>50%</th>\n",
       "      <td>981.000000</td>\n",
       "      <td>1.024013</td>\n",
       "      <td>1.001554</td>\n",
       "      <td>1.010482</td>\n",
       "      <td>1.010586</td>\n",
       "      <td>2.717045e+08</td>\n",
       "      <td>4.101430e+09</td>\n",
       "    </tr>\n",
       "    <tr>\n",
       "      <th>75%</th>\n",
       "      <td>1676.250000</td>\n",
       "      <td>245.776497</td>\n",
       "      <td>235.253754</td>\n",
       "      <td>240.197436</td>\n",
       "      <td>240.326001</td>\n",
       "      <td>3.548535e+09</td>\n",
       "      <td>1.968992e+10</td>\n",
       "    </tr>\n",
       "    <tr>\n",
       "      <th>max</th>\n",
       "      <td>2991.000000</td>\n",
       "      <td>64863.098908</td>\n",
       "      <td>62208.964366</td>\n",
       "      <td>63523.754869</td>\n",
       "      <td>63503.457930</td>\n",
       "      <td>3.509679e+11</td>\n",
       "      <td>1.186364e+12</td>\n",
       "    </tr>\n",
       "  </tbody>\n",
       "</table>\n",
       "</div>"
      ],
      "text/plain": [
       "                SNo          High           Low          Open         Close  \\\n",
       "count  14632.000000  14632.000000  14632.000000  14632.000000  14632.000000   \n",
       "mean    1112.097936   1473.936220   1385.242782   1431.877953   1434.332398   \n",
       "std      768.958232   5943.653197   5558.036929   5765.649516   5771.759534   \n",
       "min        1.000000      0.003082      0.002802      0.002809      0.002810   \n",
       "25%      458.750000      0.470923      0.438239      0.454068      0.455102   \n",
       "50%      981.000000      1.024013      1.001554      1.010482      1.010586   \n",
       "75%     1676.250000    245.776497    235.253754    240.197436    240.326001   \n",
       "max     2991.000000  64863.098908  62208.964366  63523.754869  63503.457930   \n",
       "\n",
       "             Volume     Marketcap  \n",
       "count  1.463200e+04  1.463200e+04  \n",
       "mean   6.787654e+09  3.552592e+10  \n",
       "std    1.817132e+10  1.092216e+11  \n",
       "min    0.000000e+00  0.000000e+00  \n",
       "25%    1.911512e+07  7.254668e+08  \n",
       "50%    2.717045e+08  4.101430e+09  \n",
       "75%    3.548535e+09  1.968992e+10  \n",
       "max    3.509679e+11  1.186364e+12  "
      ]
     },
     "execution_count": 47,
     "metadata": {},
     "output_type": "execute_result"
    }
   ],
   "source": [
    "df_crypto.describe()"
   ]
  },
  {
   "cell_type": "markdown",
   "id": "924a2864",
   "metadata": {},
   "source": [
    "### Scaling"
   ]
  },
  {
   "cell_type": "code",
   "execution_count": 48,
   "id": "d1f52965",
   "metadata": {},
   "outputs": [],
   "source": [
    "from matplotlib import scale"
   ]
  },
  {
   "cell_type": "code",
   "execution_count": 49,
   "id": "15b1d477",
   "metadata": {},
   "outputs": [],
   "source": [
    "from sklearn.preprocessing import StandardScaler"
   ]
  },
  {
   "cell_type": "code",
   "execution_count": 50,
   "id": "7143fc7e",
   "metadata": {
    "scrolled": true
   },
   "outputs": [
    {
     "data": {
      "image/png": "[encoded data removed]",
      "text/plain": [
       "<Figure size 864x576 with 1 Axes>"
      ]
     },
     "metadata": {
      "needs_background": "light"
     },
     "output_type": "display_data"
    }
   ],
   "source": [
    "fig = plt.figure(figsize=(12, 8))\n",
    "\n",
    "plt.plot(df_btc.Date, df_btc.Close, label='Bitcoin', \n",
    "         linewidth=3)\n",
    "plt.plot(df_eth.Date, df_eth.Close, color='coral', \n",
    "         label='Ethereum', linewidth=3)\n",
    "plt.plot(df_usdt.Date, df_usdt.Close, color='green', \n",
    "         label='Tether', linewidth=3)\n",
    "plt.plot(df_bnb.Date, df_bnb.Close, color='black', \n",
    "         label='Binance', linewidth=3)\n",
    "plt.plot(df_usdc.Date, df_usdc.Close, color='yellowgreen', \n",
    "         label='U.S Dollar', linewidth=3)\n",
    "plt.plot(df_sol.Date, df_sol.Close, color='purple', \n",
    "         label='Solana', linewidth=3)\n",
    "plt.plot(df_xrp.Date, df_xrp.Close, color='blue', \n",
    "         label='XRP', linewidth=3)\n",
    "plt.plot(df_ada.Date, df_ada.Close, color='maroon', \n",
    "         label='Cardano', linewidth=3)\n",
    "\n",
    "# Add title and labels\n",
    "\n",
    "plt.title('Closing price of Criptocurrency')\n",
    "plt.xlabel('Date')\n",
    "plt.ylabel('Close')\n",
    "plt.yscale('log')\n",
    "\n",
    "# Add legend\n",
    "plt.xticks([\"2013-04-29 23:59:59\", \"2014-04-29 23:59:59\",\"2015-04-29 23:59:59\",\"2016-04-29 23:59:59\",\"2017-04-29 23:59:59\",\n",
    "            \"2018-04-29 23:59:59\",\"2019-04-29 23:59:59\",\"2020-04-29 23:59:59\",\"2021-04-29 23:59:59\"], [2013,2014,2015,2016,2017,2018,2019,2020,2021])\n",
    "plt.legend()\n",
    "\n",
    "plt.axvline(\"2020-03-11 23:59:59\",  color='red')\n",
    "plt.axvline(\"2016-11-08 23:59:59\",  color='red')\n",
    "\n",
    "\n",
    "# Auto space\n",
    "\n",
    "plt.tight_layout()\n",
    "\n",
    "# Display plot\n",
    "\n",
    "plt.show() "
   ]
  },
  {
   "cell_type": "markdown",
   "id": "61c70706",
   "metadata": {},
   "source": [
    "### COVID "
   ]
  },
  {
   "cell_type": "code",
   "execution_count": 51,
   "id": "c4ce821e",
   "metadata": {},
   "outputs": [],
   "source": [
    "df_crypto1= df_crypto['Date'] > '2019-04-29'"
   ]
  },
  {
   "cell_type": "code",
   "execution_count": null,
   "id": "dbb3c243",
   "metadata": {},
   "outputs": [],
   "source": []
  },
  {
   "cell_type": "code",
   "execution_count": null,
   "id": "3d92adeb",
   "metadata": {},
   "outputs": [],
   "source": []
  },
  {
   "cell_type": "code",
   "execution_count": null,
   "id": "266b17e3",
   "metadata": {},
   "outputs": [],
   "source": []
  },
  {
   "cell_type": "markdown",
   "id": "ac9815db",
   "metadata": {},
   "source": [
    "## References"
   ]
  },
  {
   "cell_type": "markdown",
   "id": "430ba775",
   "metadata": {},
   "source": [
    "BioSpace. (n.d.). A Timeline of COVID-19 Vaccine Development. [online] Available at: https://www.biospace.com/article/a-timeline-of-covid-19-vaccine-development/?msclkid=f875afbabca411eca77a8e2510056b74 [Accessed 15 Apr. 2022].\n",
    "\n",
    "Garson, G.D. (2015). Missing Values Analysis and Data Imputation. 1st ed. Asheboro, North Carolina, USA: Statistical Associates Publishing, p.10.\n",
    "\n",
    "GeeksforGeeks. (2018). Python | Pandas Series.pct_change(). [online] Available at: https://www.geeksforgeeks.org/python-pandas-series-pct_change/#:~:text=Pandas%20pct_change()%20method%20is [Accessed 17 May 2022].\n",
    "\n",
    "Tretina, K. (2021). Top 10 Cryptocurrencies In April 2022. [online] Forbes Advisor. Available at: https://www.forbes.com/advisor/investing/cryptocurrency/top-10-cryptocurrencies/ [Accessed 15 Apr. 2022].\n",
    "\n",
    "World Health Organization (2020). WHO Director-General’s opening remarks at the media briefing on COVID-19 - 11 March 2020. [online] www.who.int. Available at: https://www.who.int/director-general/speeches/detail/who-director-general-s-opening-remarks-at-the-media-briefing-on-covid-19---11-march-2020#:~:text=WHO%20has%20been%20assessing%20this [Accessed 15 Apr. 2022]."
   ]
  },
  {
   "cell_type": "code",
   "execution_count": null,
   "id": "fc52e485",
   "metadata": {},
   "outputs": [],
   "source": []
  }
 ],
 "metadata": {
  "kernelspec": {
   "display_name": "Python 3 (ipykernel)",
   "language": "python",
   "name": "python3"
  },
  "language_info": {
   "codemirror_mode": {
    "name": "ipython",
    "version": 3
   },
   "file_extension": ".py",
   "mimetype": "text/x-python",
   "name": "python",
   "nbconvert_exporter": "python",
   "pygments_lexer": "ipython3",
   "version": "3.9.7"
  },
  "toc": {
   "base_numbering": 1,
   "nav_menu": {},
   "number_sections": false,
   "sideBar": true,
   "skip_h1_title": false,
   "title_cell": "Table of Contents",
   "title_sidebar": "Contents",
   "toc_cell": false,
   "toc_position": {},
   "toc_section_display": true,
   "toc_window_display": false
  }
 },
 "nbformat": 4,
 "nbformat_minor": 5
}
